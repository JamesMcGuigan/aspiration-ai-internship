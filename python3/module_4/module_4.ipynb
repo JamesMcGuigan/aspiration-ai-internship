{
 "cells": [
  {
   "cell_type": "markdown",
   "metadata": {},
   "source": [
    "# Module 4 - Trade Call Prediction using Classification\n",
    "\n",
    "In this module, we'd be covering the concept of classification and utilize our skills to solve the following queries – (Stock Price = Close Price)"
   ]
  },
  {
   "cell_type": "markdown",
   "metadata": {},
   "source": [
    "# 4.1 \n",
    "\n",
    "4.1 Import the csv file of the stock which contained the Bollinger columns as well.\n",
    "\n",
    "- Create a new column 'Call' , whose entries are - \n",
    "    - 'Buy' if the stock price is below the lower Bollinger band \n",
    "    - 'Hold Buy/ Liquidate Short' if the stock price is between the lower and middle Bollinger band \n",
    "    - 'Hold Short/ Liquidate Buy' if the stock price is between the middle and upper Bollinger band \n",
    "    - 'Short' if the stock price is above the upper Bollinger band\n",
    "    \n",
    "- Now train a classification model with the 3 bollinger columns and the stock price as inputs and 'Calls' as output. Check the accuracy on a test set. (There are many classifier models to choose from, try each one out and compare the accuracy for each)\n",
    "\n",
    "- Import another stock data and create the bollinger columns. Using the already defined model, predict the daily calls for this new stock."
   ]
  },
  {
   "cell_type": "code",
   "execution_count": null,
   "metadata": {},
   "outputs": [],
   "source": [
    "# 4.2 Now, we'll again utilize classification to make a trade call, and measure the efficiency of our trading algorithm over the past two years. For this assignment , we will use RandomForest classifier.\n",
    "\n",
    "- Import the stock data file of your choice\n",
    "    - Define 4 new columns , whose values are: \n",
    "    - % change between Open and Close price for the day \n",
    "    - % change between Low and High price for the day \n",
    "    - 5 day rolling mean of the day to day % change in Close Price \n",
    "    - 5 day rolling std of the day to day % change in Close Price\n",
    "    \n",
    "- Create a new column 'Action' whose values are: \n",
    "    - 1 if next day's price(Close) is greater than present day's. \n",
    "    - (-1) if next day's price(Close) is less than present day's. \n",
    "    - i.e. Action [ i ] = 1 if Close[ i+1 ] > Close[ i ] \n",
    "    - i.e. Action [ i ] = (-1) if Close[ i+1 ] < Close[ i ]\n",
    "    \n",
    "- Construct a classification model with the 4 new inputs and 'Action' as target\n",
    "\n",
    "- Check the accuracy of this model , also , plot the net cumulative returns (in %) if we were to follow this algorithmic model\n"
   ]
  }
 ],
 "metadata": {
  "kernelspec": {
   "display_name": "Python 3",
   "language": "python",
   "name": "python3"
  },
  "language_info": {
   "codemirror_mode": {
    "name": "ipython",
    "version": 3
   },
   "file_extension": ".py",
   "mimetype": "text/x-python",
   "name": "python",
   "nbconvert_exporter": "python",
   "pygments_lexer": "ipython3",
   "version": "3.7.3"
  }
 },
 "nbformat": 4,
 "nbformat_minor": 4
}
