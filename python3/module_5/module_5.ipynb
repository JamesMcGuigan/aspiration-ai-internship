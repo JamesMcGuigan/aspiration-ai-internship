{
 "cells": [
  {
   "cell_type": "markdown",
   "metadata": {},
   "source": [
    "# Module 5 - Modern Portfolio Theory\n",
    "\n",
    "In this module, We’ll be looking at investment portfolio optimization with python, the\n",
    "fundamental concept of diversification and the creation of an efficient frontier that can be used by investors to choose\n",
    "specific mixes of assets based on investment goals; that is, the trade off between their desired level of portfolio\n",
    "return vs their desired level of portfolio risk.\n",
    "\n",
    "[Modern Portfolio Theory](https://www.investopedia.com/terms/m/modernportfoliotheory.asp) suggests that it is possible to \n",
    "construct an \"efficient frontier\" of optimal portfolios,\n",
    "offering the maximum possible expected return for a given level of risk. It suggests that it is not enough to look at\n",
    "the expected risk and return of one particular stock. By investing in more than one stock, an investor can reap the\n",
    "benefits of diversification, particularly a reduction in the riskiness of the portfolio. MPT quantifies the benefits of\n",
    "diversification, also known as not putting all of your eggs in one basket."
   ]
  },
  {
   "cell_type": "code",
   "execution_count": 1,
   "metadata": {},
   "outputs": [],
   "source": [
    "import pandas as pd\n",
    "import numpy as np\n",
    "from pandas import Series, DataFrame\n",
    "import seaborn as sns\n",
    "import matplotlib.pyplot as plt\n",
    "import os\n",
    "import re\n",
    "import glob\n",
    "import random"
   ]
  },
  {
   "cell_type": "markdown",
   "metadata": {},
   "source": [
    "## Problem Statements"
   ]
  },
  {
   "cell_type": "markdown",
   "metadata": {},
   "source": [
    "## 5.1 \n",
    "For your chosen stock, calculate the mean daily return and daily standard deviation of returns, and then just annualise them to get mean expected annual return and volatility of that single stock. ( annual mean = daily mean * 252 , annual stdev = daily stdev * sqrt(252) )"
   ]
  },
  {
   "cell_type": "code",
   "execution_count": 2,
   "metadata": {},
   "outputs": [
    {
     "data": {
      "text/html": [
       "<div>\n",
       "<style scoped>\n",
       "    .dataframe tbody tr th:only-of-type {\n",
       "        vertical-align: middle;\n",
       "    }\n",
       "\n",
       "    .dataframe tbody tr th {\n",
       "        vertical-align: top;\n",
       "    }\n",
       "\n",
       "    .dataframe thead th {\n",
       "        text-align: right;\n",
       "    }\n",
       "</style>\n",
       "<table border=\"1\" class=\"dataframe\">\n",
       "  <thead>\n",
       "    <tr style=\"text-align: right;\">\n",
       "      <th></th>\n",
       "      <th>Cap</th>\n",
       "      <th>Name</th>\n",
       "      <th>meanAnnualReturn</th>\n",
       "      <th>meanAnnualSTD</th>\n",
       "      <th>meanDailyReturn</th>\n",
       "      <th>meanDailySTD</th>\n",
       "    </tr>\n",
       "    <tr>\n",
       "      <th>Name</th>\n",
       "      <th></th>\n",
       "      <th></th>\n",
       "      <th></th>\n",
       "      <th></th>\n",
       "      <th></th>\n",
       "      <th></th>\n",
       "    </tr>\n",
       "  </thead>\n",
       "  <tbody>\n",
       "    <tr>\n",
       "      <th>ADANIPORTS</th>\n",
       "      <td>Large_Cap</td>\n",
       "      <td>ADANIPORTS</td>\n",
       "      <td>0.060499</td>\n",
       "      <td>0.309751</td>\n",
       "      <td>0.00024</td>\n",
       "      <td>0.019512</td>\n",
       "    </tr>\n",
       "  </tbody>\n",
       "</table>\n",
       "</div>"
      ],
      "text/plain": [
       "                  Cap        Name  meanAnnualReturn  meanAnnualSTD  \\\n",
       "Name                                                                 \n",
       "ADANIPORTS  Large_Cap  ADANIPORTS          0.060499       0.309751   \n",
       "\n",
       "            meanDailyReturn  meanDailySTD  \n",
       "Name                                       \n",
       "ADANIPORTS          0.00024      0.019512  "
      ]
     },
     "execution_count": 2,
     "metadata": {},
     "output_type": "execute_result"
    }
   ],
   "source": [
    "def read_csv( filename ):\n",
    "    if isinstance(filename, pd.DataFrame): return filename  # OPTIMIZATION: allow passthrough of existing dataframe\n",
    "    \n",
    "    dataframe = pd.read_csv( filename, parse_dates=['Date'] )\n",
    "    dataframe.set_index( dataframe.Date, inplace=True )\n",
    "    return dataframe\n",
    "\n",
    "def meanDailyReturn( filename ):\n",
    "    return read_csv( filename ).Close_Price.pct_change().dropna().mean()\n",
    "\n",
    "def meanDailySTD( filename ):\n",
    "    return read_csv( filename ).Close_Price.pct_change().dropna().std()\n",
    "\n",
    "def meanAnnualReturn( filename ):\n",
    "    return meanDailyReturn(filename) * 252\n",
    "\n",
    "def meanAnnualSTD( filename ):\n",
    "    return meanDailySTD(filename) * np.sqrt(252)\n",
    "\n",
    "def getName( filename ):\n",
    "    return re.sub(r'^.+/|\\.[^.]+$',     '',    filename)\n",
    "\n",
    "def getCap( filename ):\n",
    "    return re.sub(r'^.*/(\\w+_Cap)/.*$', '\\\\1', filename)\n",
    "\n",
    "def calcReturnVolatility( filename ):\n",
    "    input  = read_csv( filename )\n",
    "    output = DataFrame([{\n",
    "        \"Name\":             getName( filename ),\n",
    "        \"Cap\":              getCap(  filename ),\n",
    "        \"meanDailyReturn\":  meanDailyReturn( input ),\n",
    "        \"meanDailySTD\":     meanDailySTD( input ),\n",
    "        \"meanAnnualReturn\": meanAnnualReturn( input ),\n",
    "        \"meanAnnualSTD\":    meanAnnualSTD( input )\n",
    "    }])\n",
    "    output.set_index( output.Name, inplace=True, drop=False )\n",
    "    return output\n",
    "\n",
    "stock = '../../data_output/module_1/python3/stocks/Large_Cap/ADANIPORTS.csv'\n",
    "calcReturnVolatility(stock)"
   ]
  },
  {
   "cell_type": "markdown",
   "metadata": {},
   "source": [
    "## 5.2 \n",
    "Now, we need to diversify our portfolio. Build your own portfolio by choosing any 5 stocks, preferably of different sectors and different caps. Assume that all 5 have the same weightage, i.e. 20% . Now calculate the annual returns and volatility of the entire portfolio ( Hint : Don't forget to use the covariance )"
   ]
  },
  {
   "cell_type": "code",
   "execution_count": 3,
   "metadata": {},
   "outputs": [
    {
     "data": {
      "text/html": [
       "<div>\n",
       "<style scoped>\n",
       "    .dataframe tbody tr th:only-of-type {\n",
       "        vertical-align: middle;\n",
       "    }\n",
       "\n",
       "    .dataframe tbody tr th {\n",
       "        vertical-align: top;\n",
       "    }\n",
       "\n",
       "    .dataframe thead th {\n",
       "        text-align: right;\n",
       "    }\n",
       "</style>\n",
       "<table border=\"1\" class=\"dataframe\">\n",
       "  <thead>\n",
       "    <tr style=\"text-align: right;\">\n",
       "      <th></th>\n",
       "      <th>Cap</th>\n",
       "      <th>Name</th>\n",
       "      <th>meanAnnualReturn</th>\n",
       "      <th>meanAnnualSTD</th>\n",
       "      <th>meanDailyReturn</th>\n",
       "      <th>meanDailySTD</th>\n",
       "    </tr>\n",
       "    <tr>\n",
       "      <th>Name</th>\n",
       "      <th></th>\n",
       "      <th></th>\n",
       "      <th></th>\n",
       "      <th></th>\n",
       "      <th></th>\n",
       "      <th></th>\n",
       "    </tr>\n",
       "  </thead>\n",
       "  <tbody>\n",
       "    <tr>\n",
       "      <th>NBCC</th>\n",
       "      <td>Mid_Cap</td>\n",
       "      <td>NBCC</td>\n",
       "      <td>-0.515176</td>\n",
       "      <td>0.508672</td>\n",
       "      <td>-0.002044</td>\n",
       "      <td>0.032043</td>\n",
       "    </tr>\n",
       "    <tr>\n",
       "      <th>IOC</th>\n",
       "      <td>Large_Cap</td>\n",
       "      <td>IOC</td>\n",
       "      <td>-0.413701</td>\n",
       "      <td>0.500046</td>\n",
       "      <td>-0.001642</td>\n",
       "      <td>0.031500</td>\n",
       "    </tr>\n",
       "    <tr>\n",
       "      <th>TCS</th>\n",
       "      <td>Large_Cap</td>\n",
       "      <td>TCS</td>\n",
       "      <td>0.075027</td>\n",
       "      <td>0.431617</td>\n",
       "      <td>0.000298</td>\n",
       "      <td>0.027189</td>\n",
       "    </tr>\n",
       "    <tr>\n",
       "      <th>ADANIPORTS</th>\n",
       "      <td>Large_Cap</td>\n",
       "      <td>ADANIPORTS</td>\n",
       "      <td>0.060499</td>\n",
       "      <td>0.309751</td>\n",
       "      <td>0.000240</td>\n",
       "      <td>0.019512</td>\n",
       "    </tr>\n",
       "    <tr>\n",
       "      <th>AJANTPHARM</th>\n",
       "      <td>Mid_Cap</td>\n",
       "      <td>AJANTPHARM</td>\n",
       "      <td>-0.173891</td>\n",
       "      <td>0.332171</td>\n",
       "      <td>-0.000690</td>\n",
       "      <td>0.020925</td>\n",
       "    </tr>\n",
       "  </tbody>\n",
       "</table>\n",
       "</div>"
      ],
      "text/plain": [
       "                  Cap        Name  meanAnnualReturn  meanAnnualSTD  \\\n",
       "Name                                                                 \n",
       "NBCC          Mid_Cap        NBCC         -0.515176       0.508672   \n",
       "IOC         Large_Cap         IOC         -0.413701       0.500046   \n",
       "TCS         Large_Cap         TCS          0.075027       0.431617   \n",
       "ADANIPORTS  Large_Cap  ADANIPORTS          0.060499       0.309751   \n",
       "AJANTPHARM    Mid_Cap  AJANTPHARM         -0.173891       0.332171   \n",
       "\n",
       "            meanDailyReturn  meanDailySTD  \n",
       "Name                                       \n",
       "NBCC              -0.002044      0.032043  \n",
       "IOC               -0.001642      0.031500  \n",
       "TCS                0.000298      0.027189  \n",
       "ADANIPORTS         0.000240      0.019512  \n",
       "AJANTPHARM        -0.000690      0.020925  "
      ]
     },
     "execution_count": 3,
     "metadata": {},
     "output_type": "execute_result"
    }
   ],
   "source": [
    "filenames = glob.glob('../../data_output/module_1/python3/stocks/**/*.csv')\n",
    "filenames = random.sample( filenames, 5 )\n",
    "summary   = pd.concat([ calcReturnVolatility(stock) for stock in filenames ])\n",
    "summary"
   ]
  },
  {
   "cell_type": "code",
   "execution_count": 4,
   "metadata": {},
   "outputs": [
    {
     "data": {
      "text/html": [
       "<div>\n",
       "<style scoped>\n",
       "    .dataframe tbody tr th:only-of-type {\n",
       "        vertical-align: middle;\n",
       "    }\n",
       "\n",
       "    .dataframe tbody tr th {\n",
       "        vertical-align: top;\n",
       "    }\n",
       "\n",
       "    .dataframe thead th {\n",
       "        text-align: right;\n",
       "    }\n",
       "</style>\n",
       "<table border=\"1\" class=\"dataframe\">\n",
       "  <thead>\n",
       "    <tr style=\"text-align: right;\">\n",
       "      <th></th>\n",
       "      <th>NBCC</th>\n",
       "      <th>IOC</th>\n",
       "      <th>TCS</th>\n",
       "      <th>ADANIPORTS</th>\n",
       "      <th>AJANTPHARM</th>\n",
       "    </tr>\n",
       "    <tr>\n",
       "      <th>Date</th>\n",
       "      <th></th>\n",
       "      <th></th>\n",
       "      <th></th>\n",
       "      <th></th>\n",
       "      <th></th>\n",
       "    </tr>\n",
       "  </thead>\n",
       "  <tbody>\n",
       "    <tr>\n",
       "      <th>2017-05-15</th>\n",
       "      <td>197.60</td>\n",
       "      <td>442.10</td>\n",
       "      <td>2365.10</td>\n",
       "      <td>356.20</td>\n",
       "      <td>1633.50</td>\n",
       "    </tr>\n",
       "    <tr>\n",
       "      <th>2017-05-16</th>\n",
       "      <td>198.25</td>\n",
       "      <td>446.60</td>\n",
       "      <td>2429.15</td>\n",
       "      <td>354.50</td>\n",
       "      <td>1634.25</td>\n",
       "    </tr>\n",
       "    <tr>\n",
       "      <th>2017-05-17</th>\n",
       "      <td>200.35</td>\n",
       "      <td>444.25</td>\n",
       "      <td>2455.35</td>\n",
       "      <td>348.55</td>\n",
       "      <td>1654.35</td>\n",
       "    </tr>\n",
       "    <tr>\n",
       "      <th>2017-05-18</th>\n",
       "      <td>194.20</td>\n",
       "      <td>439.90</td>\n",
       "      <td>2536.20</td>\n",
       "      <td>347.90</td>\n",
       "      <td>1633.40</td>\n",
       "    </tr>\n",
       "    <tr>\n",
       "      <th>2017-05-19</th>\n",
       "      <td>193.55</td>\n",
       "      <td>435.40</td>\n",
       "      <td>2507.15</td>\n",
       "      <td>349.45</td>\n",
       "      <td>1670.25</td>\n",
       "    </tr>\n",
       "  </tbody>\n",
       "</table>\n",
       "</div>"
      ],
      "text/plain": [
       "              NBCC     IOC      TCS  ADANIPORTS  AJANTPHARM\n",
       "Date                                                       \n",
       "2017-05-15  197.60  442.10  2365.10      356.20     1633.50\n",
       "2017-05-16  198.25  446.60  2429.15      354.50     1634.25\n",
       "2017-05-17  200.35  444.25  2455.35      348.55     1654.35\n",
       "2017-05-18  194.20  439.90  2536.20      347.90     1633.40\n",
       "2017-05-19  193.55  435.40  2507.15      349.45     1670.25"
      ]
     },
     "execution_count": 4,
     "metadata": {},
     "output_type": "execute_result"
    }
   ],
   "source": [
    "portfolio = DataFrame()\n",
    "for filename in filenames:\n",
    "    portfolio[ getName(filename) ] = read_csv(filename).Close_Price\n",
    "portfolio.head()"
   ]
  },
  {
   "cell_type": "code",
   "execution_count": 5,
   "metadata": {},
   "outputs": [
    {
     "data": {
      "text/plain": [
       "-0.19344865253567306"
      ]
     },
     "execution_count": 5,
     "metadata": {},
     "output_type": "execute_result"
    }
   ],
   "source": [
    "# Portfolio Mean Average Return can be calculated either from the summary data or the portfolio table\n",
    "portfolio_annual_returns = summary.meanAnnualReturn.mean()\n",
    "portfolio_annual_returns"
   ]
  },
  {
   "cell_type": "code",
   "execution_count": 6,
   "metadata": {},
   "outputs": [
    {
     "data": {
      "text/plain": [
       "-0.19344865253567306"
      ]
     },
     "execution_count": 6,
     "metadata": {},
     "output_type": "execute_result"
    }
   ],
   "source": [
    "# NOTE: mean().mean() works because weights between each of the stocks is equal\n",
    "portfolio_annual_returns = portfolio.pct_change().mean().mean() * 252  \n",
    "portfolio_annual_returns"
   ]
  },
  {
   "cell_type": "code",
   "execution_count": 7,
   "metadata": {},
   "outputs": [
    {
     "data": {
      "text/html": [
       "<div>\n",
       "<style scoped>\n",
       "    .dataframe tbody tr th:only-of-type {\n",
       "        vertical-align: middle;\n",
       "    }\n",
       "\n",
       "    .dataframe tbody tr th {\n",
       "        vertical-align: top;\n",
       "    }\n",
       "\n",
       "    .dataframe thead th {\n",
       "        text-align: right;\n",
       "    }\n",
       "</style>\n",
       "<table border=\"1\" class=\"dataframe\">\n",
       "  <thead>\n",
       "    <tr style=\"text-align: right;\">\n",
       "      <th></th>\n",
       "      <th>NBCC</th>\n",
       "      <th>IOC</th>\n",
       "      <th>TCS</th>\n",
       "      <th>ADANIPORTS</th>\n",
       "      <th>AJANTPHARM</th>\n",
       "    </tr>\n",
       "  </thead>\n",
       "  <tbody>\n",
       "    <tr>\n",
       "      <th>NBCC</th>\n",
       "      <td>1.026776e-03</td>\n",
       "      <td>0.000159</td>\n",
       "      <td>-2.158218e-07</td>\n",
       "      <td>0.000112</td>\n",
       "      <td>0.000153</td>\n",
       "    </tr>\n",
       "    <tr>\n",
       "      <th>IOC</th>\n",
       "      <td>1.587470e-04</td>\n",
       "      <td>0.000992</td>\n",
       "      <td>-1.622964e-05</td>\n",
       "      <td>0.000077</td>\n",
       "      <td>0.000042</td>\n",
       "    </tr>\n",
       "    <tr>\n",
       "      <th>TCS</th>\n",
       "      <td>-2.158218e-07</td>\n",
       "      <td>-0.000016</td>\n",
       "      <td>7.392593e-04</td>\n",
       "      <td>-0.000038</td>\n",
       "      <td>0.000033</td>\n",
       "    </tr>\n",
       "    <tr>\n",
       "      <th>ADANIPORTS</th>\n",
       "      <td>1.122036e-04</td>\n",
       "      <td>0.000077</td>\n",
       "      <td>-3.775636e-05</td>\n",
       "      <td>0.000381</td>\n",
       "      <td>0.000100</td>\n",
       "    </tr>\n",
       "    <tr>\n",
       "      <th>AJANTPHARM</th>\n",
       "      <td>1.534440e-04</td>\n",
       "      <td>0.000042</td>\n",
       "      <td>3.348475e-05</td>\n",
       "      <td>0.000100</td>\n",
       "      <td>0.000438</td>\n",
       "    </tr>\n",
       "  </tbody>\n",
       "</table>\n",
       "</div>"
      ],
      "text/plain": [
       "                    NBCC       IOC           TCS  ADANIPORTS  AJANTPHARM\n",
       "NBCC        1.026776e-03  0.000159 -2.158218e-07    0.000112    0.000153\n",
       "IOC         1.587470e-04  0.000992 -1.622964e-05    0.000077    0.000042\n",
       "TCS        -2.158218e-07 -0.000016  7.392593e-04   -0.000038    0.000033\n",
       "ADANIPORTS  1.122036e-04  0.000077 -3.775636e-05    0.000381    0.000100\n",
       "AJANTPHARM  1.534440e-04  0.000042  3.348475e-05    0.000100    0.000438"
      ]
     },
     "execution_count": 7,
     "metadata": {},
     "output_type": "execute_result"
    }
   ],
   "source": [
    "# Portfolio Covarence matrix\n",
    "portfolio.pct_change().cov()"
   ]
  },
  {
   "cell_type": "code",
   "execution_count": 8,
   "metadata": {},
   "outputs": [
    {
     "data": {
      "text/plain": [
       "array([0.2, 0.2, 0.2, 0.2, 0.2])"
      ]
     },
     "execution_count": 8,
     "metadata": {},
     "output_type": "execute_result"
    }
   ],
   "source": [
    "# Now calculate the annual volatility\n",
    "weights = np.full( portfolio.shape[1], 1/portfolio.shape[1] )\n",
    "weights"
   ]
  },
  {
   "cell_type": "code",
   "execution_count": 11,
   "metadata": {},
   "outputs": [
    {
     "data": {
      "text/plain": [
       "0.06"
      ]
     },
     "execution_count": 11,
     "metadata": {},
     "output_type": "execute_result"
    }
   ],
   "source": [
    "portfolio_annual_volatility = np.sqrt(\n",
    "    np.dot( \n",
    "        weights.T, \n",
    "        np.dot( portfolio.pct_change().cov(), weights )\n",
    "    ) \n",
    "    * np.sqrt(252)\n",
    ")\n",
    "round( portfolio_annual_volatility, 2 )"
   ]
  },
  {
   "cell_type": "code",
   "execution_count": 12,
   "metadata": {},
   "outputs": [
    {
     "name": "stdout",
     "output_type": "stream",
     "text": [
      "Portfolio Annualized Mean Return:  -0.19\n",
      "Portfolio Annualized Volatility:   0.06\n"
     ]
    }
   ],
   "source": [
    "print(\"Portfolio Annualized Mean Return: \", round(portfolio_annual_returns,2)    )\n",
    "print(\"Portfolio Annualized Volatility:  \", round(portfolio_annual_volatility,2) )"
   ]
  },
  {
   "cell_type": "markdown",
   "metadata": {},
   "source": [
    "## 5.3 \n",
    "Prepare a scatter plot for differing weights of the individual stocks in the portfolio , the axes being the returns and volatility. Colour the data points based on the Sharpe Ratio ( Returns/Volatility) of that particular portfolio."
   ]
  },
  {
   "cell_type": "markdown",
   "metadata": {},
   "source": [
    "# 5.4 Mark the 2 portfolios where:\n",
    "- Portfolio 1 - The Sharpe ratio is the highest \n",
    "- Portfolio 2 - The volatility is the lowest."
   ]
  },
  {
   "cell_type": "code",
   "execution_count": null,
   "metadata": {},
   "outputs": [],
   "source": []
  },
  {
   "cell_type": "code",
   "execution_count": null,
   "metadata": {},
   "outputs": [],
   "source": []
  }
 ],
 "metadata": {
  "kernelspec": {
   "display_name": "Python 3",
   "language": "python",
   "name": "python3"
  },
  "language_info": {
   "codemirror_mode": {
    "name": "ipython",
    "version": 3
   },
   "file_extension": ".py",
   "mimetype": "text/x-python",
   "name": "python",
   "nbconvert_exporter": "python",
   "pygments_lexer": "ipython3",
   "version": "3.7.3"
  }
 },
 "nbformat": 4,
 "nbformat_minor": 4
}
