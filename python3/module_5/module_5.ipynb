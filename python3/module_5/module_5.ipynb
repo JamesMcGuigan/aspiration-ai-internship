{
 "cells": [
  {
   "cell_type": "markdown",
   "metadata": {},
   "source": [
    "# Module 5 - Modern Portfolio Theory\n",
    "\n",
    "In this module, We’ll be looking at investment portfolio optimization with python, the\n",
    "fundamental concept of diversification and the creation of an efficient frontier that can be used by investors to choose\n",
    "specific mixes of assets based on investment goals; that is, the trade off between their desired level of portfolio\n",
    "return vs their desired level of portfolio risk.\n",
    "\n",
    "[Modern Portfolio Theory](https://www.investopedia.com/terms/m/modernportfoliotheory.asp) suggests that it is possible to \n",
    "construct an \"efficient frontier\" of optimal portfolios,\n",
    "offering the maximum possible expected return for a given level of risk. It suggests that it is not enough to look at\n",
    "the expected risk and return of one particular stock. By investing in more than one stock, an investor can reap the\n",
    "benefits of diversification, particularly a reduction in the riskiness of the portfolio. MPT quantifies the benefits of\n",
    "diversification, also known as not putting all of your eggs in one basket."
   ]
  },
  {
   "cell_type": "code",
   "execution_count": 1,
   "metadata": {},
   "outputs": [
    {
     "name": "stderr",
     "output_type": "stream",
     "text": [
      "/usr/local/lib/python3.7/site-packages/sklearn/externals/joblib/__init__.py:15: DeprecationWarning: sklearn.externals.joblib is deprecated in 0.21 and will be removed in 0.23. Please import this functionality directly from joblib, which can be installed with: pip install joblib. If this warning is raised when loading pickled models, you may need to re-serialize those models with scikit-learn 0.21+.\n",
      "  warnings.warn(msg, category=DeprecationWarning)\n"
     ]
    }
   ],
   "source": [
    "import pandas as pd\n",
    "import numpy as np\n",
    "from pandas import Series, DataFrame\n",
    "import seaborn as sns\n",
    "import matplotlib.pyplot as plt\n",
    "import os\n",
    "import re\n",
    "import glob\n",
    "import random\n",
    "import skopt\n",
    "# from skopt import gp_minimize"
   ]
  },
  {
   "cell_type": "markdown",
   "metadata": {},
   "source": [
    "## Problem Statements"
   ]
  },
  {
   "cell_type": "markdown",
   "metadata": {},
   "source": [
    "## 5.1 - Annualized Volatility and Returns\n",
    "For your chosen stock, calculate the mean daily return and daily standard deviation of returns, and then just annualise them to get mean expected annual return and volatility of that single stock. ( annual mean = daily mean * 252 , annual stdev = daily stdev * sqrt(252) )"
   ]
  },
  {
   "cell_type": "code",
   "execution_count": 2,
   "metadata": {},
   "outputs": [
    {
     "data": {
      "text/html": [
       "<div>\n",
       "<style scoped>\n",
       "    .dataframe tbody tr th:only-of-type {\n",
       "        vertical-align: middle;\n",
       "    }\n",
       "\n",
       "    .dataframe tbody tr th {\n",
       "        vertical-align: top;\n",
       "    }\n",
       "\n",
       "    .dataframe thead th {\n",
       "        text-align: right;\n",
       "    }\n",
       "</style>\n",
       "<table border=\"1\" class=\"dataframe\">\n",
       "  <thead>\n",
       "    <tr style=\"text-align: right;\">\n",
       "      <th></th>\n",
       "      <th>Cap</th>\n",
       "      <th>Name</th>\n",
       "      <th>meanAnnualReturn</th>\n",
       "      <th>meanAnnualSTD</th>\n",
       "      <th>meanDailyReturn</th>\n",
       "      <th>meanDailySTD</th>\n",
       "    </tr>\n",
       "    <tr>\n",
       "      <th>Name</th>\n",
       "      <th></th>\n",
       "      <th></th>\n",
       "      <th></th>\n",
       "      <th></th>\n",
       "      <th></th>\n",
       "      <th></th>\n",
       "    </tr>\n",
       "  </thead>\n",
       "  <tbody>\n",
       "    <tr>\n",
       "      <th>ADANIPORTS</th>\n",
       "      <td>Large_Cap</td>\n",
       "      <td>ADANIPORTS</td>\n",
       "      <td>0.060499</td>\n",
       "      <td>0.309751</td>\n",
       "      <td>0.00024</td>\n",
       "      <td>0.019512</td>\n",
       "    </tr>\n",
       "  </tbody>\n",
       "</table>\n",
       "</div>"
      ],
      "text/plain": [
       "                  Cap        Name  meanAnnualReturn  meanAnnualSTD  \\\n",
       "Name                                                                 \n",
       "ADANIPORTS  Large_Cap  ADANIPORTS          0.060499       0.309751   \n",
       "\n",
       "            meanDailyReturn  meanDailySTD  \n",
       "Name                                       \n",
       "ADANIPORTS          0.00024      0.019512  "
      ]
     },
     "execution_count": 2,
     "metadata": {},
     "output_type": "execute_result"
    }
   ],
   "source": [
    "def read_csv( filename ):\n",
    "    if isinstance(filename, pd.DataFrame): return filename  # OPTIMIZATION: allow passthrough of existing dataframe\n",
    "    \n",
    "    dataframe = pd.read_csv( filename, parse_dates=['Date'] )\n",
    "    dataframe.set_index( dataframe.Date, inplace=True )\n",
    "    return dataframe\n",
    "\n",
    "def meanDailyReturn( filename ):\n",
    "    return read_csv( filename ).Close_Price.pct_change().dropna().mean()\n",
    "\n",
    "def meanDailySTD( filename ):\n",
    "    return read_csv( filename ).Close_Price.pct_change().dropna().std()\n",
    "\n",
    "def meanAnnualReturn( filename ):\n",
    "    return meanDailyReturn(filename) * 252\n",
    "\n",
    "def meanAnnualSTD( filename ):\n",
    "    return meanDailySTD(filename) * np.sqrt(252)\n",
    "\n",
    "def getName( filename ):\n",
    "    return re.sub(r'^.+/|\\.[^.]+$',     '',    filename)\n",
    "\n",
    "def getCap( filename ):\n",
    "    return re.sub(r'^.*/(\\w+_Cap)/.*$', '\\\\1', filename)\n",
    "\n",
    "def calcReturnVolatility( filename ):\n",
    "    input  = read_csv( filename )\n",
    "    output = DataFrame([{\n",
    "        \"Name\":             getName( filename ),\n",
    "        \"Cap\":              getCap(  filename ),\n",
    "        \"meanDailyReturn\":  meanDailyReturn( input ),\n",
    "        \"meanDailySTD\":     meanDailySTD( input ),\n",
    "        \"meanAnnualReturn\": meanAnnualReturn( input ),\n",
    "        \"meanAnnualSTD\":    meanAnnualSTD( input )\n",
    "    }])\n",
    "    output.set_index( output.Name, inplace=True, drop=False )\n",
    "    return output\n",
    "\n",
    "stock = '../../data_output/module_1/python3/stocks/Large_Cap/ADANIPORTS.csv'\n",
    "calcReturnVolatility(stock)"
   ]
  },
  {
   "cell_type": "markdown",
   "metadata": {},
   "source": [
    "## 5.2 - Covariance Matrix\n",
    "Now, we need to diversify our portfolio. Build your own portfolio by choosing any 5 stocks, preferably of different sectors and different caps. Assume that all 5 have the same weightage, i.e. 20% . Now calculate the annual returns and volatility of the entire portfolio ( Hint : Don't forget to use the covariance )"
   ]
  },
  {
   "cell_type": "code",
   "execution_count": 3,
   "metadata": {},
   "outputs": [
    {
     "data": {
      "text/html": [
       "<div>\n",
       "<style scoped>\n",
       "    .dataframe tbody tr th:only-of-type {\n",
       "        vertical-align: middle;\n",
       "    }\n",
       "\n",
       "    .dataframe tbody tr th {\n",
       "        vertical-align: top;\n",
       "    }\n",
       "\n",
       "    .dataframe thead th {\n",
       "        text-align: right;\n",
       "    }\n",
       "</style>\n",
       "<table border=\"1\" class=\"dataframe\">\n",
       "  <thead>\n",
       "    <tr style=\"text-align: right;\">\n",
       "      <th></th>\n",
       "      <th>Cap</th>\n",
       "      <th>Name</th>\n",
       "      <th>meanAnnualReturn</th>\n",
       "      <th>meanAnnualSTD</th>\n",
       "      <th>meanDailyReturn</th>\n",
       "      <th>meanDailySTD</th>\n",
       "    </tr>\n",
       "    <tr>\n",
       "      <th>Name</th>\n",
       "      <th></th>\n",
       "      <th></th>\n",
       "      <th></th>\n",
       "      <th></th>\n",
       "      <th></th>\n",
       "      <th></th>\n",
       "    </tr>\n",
       "  </thead>\n",
       "  <tbody>\n",
       "    <tr>\n",
       "      <th>VOLTAS</th>\n",
       "      <td>Mid_Cap</td>\n",
       "      <td>VOLTAS</td>\n",
       "      <td>0.191030</td>\n",
       "      <td>0.308346</td>\n",
       "      <td>0.000758</td>\n",
       "      <td>0.019424</td>\n",
       "    </tr>\n",
       "    <tr>\n",
       "      <th>IOC</th>\n",
       "      <td>Large_Cap</td>\n",
       "      <td>IOC</td>\n",
       "      <td>-0.413701</td>\n",
       "      <td>0.500046</td>\n",
       "      <td>-0.001642</td>\n",
       "      <td>0.031500</td>\n",
       "    </tr>\n",
       "    <tr>\n",
       "      <th>LEMONTREE</th>\n",
       "      <td>Small_Cap</td>\n",
       "      <td>LEMONTREE</td>\n",
       "      <td>0.056795</td>\n",
       "      <td>0.392313</td>\n",
       "      <td>0.000225</td>\n",
       "      <td>0.024713</td>\n",
       "    </tr>\n",
       "    <tr>\n",
       "      <th>APOLLOTYRE</th>\n",
       "      <td>Mid_Cap</td>\n",
       "      <td>APOLLOTYRE</td>\n",
       "      <td>-0.064303</td>\n",
       "      <td>0.310445</td>\n",
       "      <td>-0.000255</td>\n",
       "      <td>0.019556</td>\n",
       "    </tr>\n",
       "    <tr>\n",
       "      <th>VENKEYS</th>\n",
       "      <td>Small_Cap</td>\n",
       "      <td>VENKEYS</td>\n",
       "      <td>0.381711</td>\n",
       "      <td>0.627383</td>\n",
       "      <td>0.001515</td>\n",
       "      <td>0.039521</td>\n",
       "    </tr>\n",
       "  </tbody>\n",
       "</table>\n",
       "</div>"
      ],
      "text/plain": [
       "                  Cap        Name  meanAnnualReturn  meanAnnualSTD  \\\n",
       "Name                                                                 \n",
       "VOLTAS        Mid_Cap      VOLTAS          0.191030       0.308346   \n",
       "IOC         Large_Cap         IOC         -0.413701       0.500046   \n",
       "LEMONTREE   Small_Cap   LEMONTREE          0.056795       0.392313   \n",
       "APOLLOTYRE    Mid_Cap  APOLLOTYRE         -0.064303       0.310445   \n",
       "VENKEYS     Small_Cap     VENKEYS          0.381711       0.627383   \n",
       "\n",
       "            meanDailyReturn  meanDailySTD  \n",
       "Name                                       \n",
       "VOLTAS             0.000758      0.019424  \n",
       "IOC               -0.001642      0.031500  \n",
       "LEMONTREE          0.000225      0.024713  \n",
       "APOLLOTYRE        -0.000255      0.019556  \n",
       "VENKEYS            0.001515      0.039521  "
      ]
     },
     "execution_count": 3,
     "metadata": {},
     "output_type": "execute_result"
    }
   ],
   "source": [
    "filenames_all = glob.glob('../../data_output/module_1/python3/stocks/**/*.csv')\n",
    "filenames     = random.sample( filenames_all, 5 )\n",
    "\n",
    "summary_all   = pd.concat([ calcReturnVolatility(stock) for stock in filenames_all ])\n",
    "summary       = pd.concat([ calcReturnVolatility(stock) for stock in filenames     ])\n",
    "summary"
   ]
  },
  {
   "cell_type": "code",
   "execution_count": 4,
   "metadata": {},
   "outputs": [
    {
     "data": {
      "text/html": [
       "<div>\n",
       "<style scoped>\n",
       "    .dataframe tbody tr th:only-of-type {\n",
       "        vertical-align: middle;\n",
       "    }\n",
       "\n",
       "    .dataframe tbody tr th {\n",
       "        vertical-align: top;\n",
       "    }\n",
       "\n",
       "    .dataframe thead th {\n",
       "        text-align: right;\n",
       "    }\n",
       "</style>\n",
       "<table border=\"1\" class=\"dataframe\">\n",
       "  <thead>\n",
       "    <tr style=\"text-align: right;\">\n",
       "      <th></th>\n",
       "      <th>VOLTAS</th>\n",
       "      <th>IOC</th>\n",
       "      <th>LEMONTREE</th>\n",
       "      <th>APOLLOTYRE</th>\n",
       "      <th>VENKEYS</th>\n",
       "    </tr>\n",
       "    <tr>\n",
       "      <th>Date</th>\n",
       "      <th></th>\n",
       "      <th></th>\n",
       "      <th></th>\n",
       "      <th></th>\n",
       "      <th></th>\n",
       "    </tr>\n",
       "  </thead>\n",
       "  <tbody>\n",
       "    <tr>\n",
       "      <th>2017-05-15</th>\n",
       "      <td>431.85</td>\n",
       "      <td>442.10</td>\n",
       "      <td>NaN</td>\n",
       "      <td>231.90</td>\n",
       "      <td>1169.70</td>\n",
       "    </tr>\n",
       "    <tr>\n",
       "      <th>2017-05-16</th>\n",
       "      <td>432.45</td>\n",
       "      <td>446.60</td>\n",
       "      <td>NaN</td>\n",
       "      <td>234.40</td>\n",
       "      <td>1177.00</td>\n",
       "    </tr>\n",
       "    <tr>\n",
       "      <th>2017-05-17</th>\n",
       "      <td>430.20</td>\n",
       "      <td>444.25</td>\n",
       "      <td>NaN</td>\n",
       "      <td>237.35</td>\n",
       "      <td>1188.00</td>\n",
       "    </tr>\n",
       "    <tr>\n",
       "      <th>2017-05-18</th>\n",
       "      <td>414.10</td>\n",
       "      <td>439.90</td>\n",
       "      <td>NaN</td>\n",
       "      <td>232.65</td>\n",
       "      <td>1156.90</td>\n",
       "    </tr>\n",
       "    <tr>\n",
       "      <th>2017-05-19</th>\n",
       "      <td>415.75</td>\n",
       "      <td>435.40</td>\n",
       "      <td>NaN</td>\n",
       "      <td>234.65</td>\n",
       "      <td>1161.65</td>\n",
       "    </tr>\n",
       "  </tbody>\n",
       "</table>\n",
       "</div>"
      ],
      "text/plain": [
       "            VOLTAS     IOC  LEMONTREE  APOLLOTYRE  VENKEYS\n",
       "Date                                                      \n",
       "2017-05-15  431.85  442.10        NaN      231.90  1169.70\n",
       "2017-05-16  432.45  446.60        NaN      234.40  1177.00\n",
       "2017-05-17  430.20  444.25        NaN      237.35  1188.00\n",
       "2017-05-18  414.10  439.90        NaN      232.65  1156.90\n",
       "2017-05-19  415.75  435.40        NaN      234.65  1161.65"
      ]
     },
     "execution_count": 4,
     "metadata": {},
     "output_type": "execute_result"
    }
   ],
   "source": [
    "portfolio = DataFrame()\n",
    "for filename in filenames:\n",
    "    portfolio[ getName(filename) ] = read_csv(filename).Close_Price\n",
    "portfolio.head()"
   ]
  },
  {
   "cell_type": "code",
   "execution_count": 5,
   "metadata": {},
   "outputs": [
    {
     "data": {
      "text/plain": [
       "array([0.2, 0.2, 0.2, 0.2, 0.2])"
      ]
     },
     "execution_count": 5,
     "metadata": {},
     "output_type": "execute_result"
    }
   ],
   "source": [
    "equal_weights = np.full( portfolio.shape[1], 1/portfolio.shape[1] )\n",
    "equal_weights"
   ]
  },
  {
   "cell_type": "code",
   "execution_count": 6,
   "metadata": {},
   "outputs": [
    {
     "data": {
      "text/plain": [
       "0.03"
      ]
     },
     "execution_count": 6,
     "metadata": {},
     "output_type": "execute_result"
    }
   ],
   "source": [
    "# Portfolio Mean Average Return can be calculated either from: the summary data or the portfolio table\n",
    "def portfolio_annual_returns(portfolio, weights):\n",
    "    return np.sum( portfolio.pct_change().mean() * weights ) * 252  \n",
    "\n",
    "round( portfolio_annual_returns(portfolio, equal_weights), 2 )"
   ]
  },
  {
   "cell_type": "code",
   "execution_count": 7,
   "metadata": {},
   "outputs": [
    {
     "data": {
      "text/html": [
       "<div>\n",
       "<style scoped>\n",
       "    .dataframe tbody tr th:only-of-type {\n",
       "        vertical-align: middle;\n",
       "    }\n",
       "\n",
       "    .dataframe tbody tr th {\n",
       "        vertical-align: top;\n",
       "    }\n",
       "\n",
       "    .dataframe thead th {\n",
       "        text-align: right;\n",
       "    }\n",
       "</style>\n",
       "<table border=\"1\" class=\"dataframe\">\n",
       "  <thead>\n",
       "    <tr style=\"text-align: right;\">\n",
       "      <th></th>\n",
       "      <th>VOLTAS</th>\n",
       "      <th>IOC</th>\n",
       "      <th>LEMONTREE</th>\n",
       "      <th>APOLLOTYRE</th>\n",
       "      <th>VENKEYS</th>\n",
       "    </tr>\n",
       "  </thead>\n",
       "  <tbody>\n",
       "    <tr>\n",
       "      <th>VOLTAS</th>\n",
       "      <td>0.000377</td>\n",
       "      <td>0.000087</td>\n",
       "      <td>0.000071</td>\n",
       "      <td>0.000127</td>\n",
       "      <td>0.000179</td>\n",
       "    </tr>\n",
       "    <tr>\n",
       "      <th>IOC</th>\n",
       "      <td>0.000087</td>\n",
       "      <td>0.000992</td>\n",
       "      <td>0.000083</td>\n",
       "      <td>0.000093</td>\n",
       "      <td>0.000154</td>\n",
       "    </tr>\n",
       "    <tr>\n",
       "      <th>LEMONTREE</th>\n",
       "      <td>0.000071</td>\n",
       "      <td>0.000083</td>\n",
       "      <td>0.000611</td>\n",
       "      <td>0.000036</td>\n",
       "      <td>0.000259</td>\n",
       "    </tr>\n",
       "    <tr>\n",
       "      <th>APOLLOTYRE</th>\n",
       "      <td>0.000127</td>\n",
       "      <td>0.000093</td>\n",
       "      <td>0.000036</td>\n",
       "      <td>0.000382</td>\n",
       "      <td>0.000159</td>\n",
       "    </tr>\n",
       "    <tr>\n",
       "      <th>VENKEYS</th>\n",
       "      <td>0.000179</td>\n",
       "      <td>0.000154</td>\n",
       "      <td>0.000259</td>\n",
       "      <td>0.000159</td>\n",
       "      <td>0.001562</td>\n",
       "    </tr>\n",
       "  </tbody>\n",
       "</table>\n",
       "</div>"
      ],
      "text/plain": [
       "              VOLTAS       IOC  LEMONTREE  APOLLOTYRE   VENKEYS\n",
       "VOLTAS      0.000377  0.000087   0.000071    0.000127  0.000179\n",
       "IOC         0.000087  0.000992   0.000083    0.000093  0.000154\n",
       "LEMONTREE   0.000071  0.000083   0.000611    0.000036  0.000259\n",
       "APOLLOTYRE  0.000127  0.000093   0.000036    0.000382  0.000159\n",
       "VENKEYS     0.000179  0.000154   0.000259    0.000159  0.001562"
      ]
     },
     "execution_count": 7,
     "metadata": {},
     "output_type": "execute_result"
    }
   ],
   "source": [
    "# Portfolio Covarence matrix\n",
    "portfolio_covarence = portfolio.pct_change().cov()\n",
    "portfolio_covarence"
   ]
  },
  {
   "cell_type": "code",
   "execution_count": 8,
   "metadata": {},
   "outputs": [
    {
     "data": {
      "text/plain": [
       "0.06"
      ]
     },
     "execution_count": 8,
     "metadata": {},
     "output_type": "execute_result"
    }
   ],
   "source": [
    "def portfolio_annual_volatility( portfolio, weights ): \n",
    "    return np.sqrt(\n",
    "        np.dot( \n",
    "            weights.T, \n",
    "            np.dot( portfolio.pct_change().cov(), weights )\n",
    "        ) \n",
    "        * np.sqrt(252)\n",
    "    )\n",
    "\n",
    "round( portfolio_annual_volatility(portfolio, equal_weights), 2 )"
   ]
  },
  {
   "cell_type": "code",
   "execution_count": 9,
   "metadata": {},
   "outputs": [
    {
     "data": {
      "text/plain": [
       "0.47"
      ]
     },
     "execution_count": 9,
     "metadata": {},
     "output_type": "execute_result"
    }
   ],
   "source": [
    "def portfolio_sharpe( portfolio, weights ): \n",
    "    return portfolio_annual_returns( portfolio, weights ) / portfolio_annual_volatility( portfolio, weights )\n",
    "\n",
    "round( portfolio_sharpe(portfolio, equal_weights), 2 )"
   ]
  },
  {
   "cell_type": "code",
   "execution_count": 10,
   "metadata": {},
   "outputs": [
    {
     "name": "stdout",
     "output_type": "stream",
     "text": [
      "Portfolio Annualized Mean Return:  0.03\n",
      "Portfolio Annualized Volatility:   0.06\n"
     ]
    }
   ],
   "source": [
    "print(\"Portfolio Annualized Mean Return: \", round( portfolio_annual_returns(    portfolio, equal_weights ), 2) )\n",
    "print(\"Portfolio Annualized Volatility:  \", round( portfolio_annual_volatility( portfolio, equal_weights ), 2) )"
   ]
  },
  {
   "cell_type": "markdown",
   "metadata": {},
   "source": [
    "## 5.3 + 5.4 - Monty-Carlo Simulation\n",
    "\n",
    "Prepare a scatter plot for differing weights of the individual stocks in the portfolio , the axes being the returns and volatility. Colour the data points based on the Sharpe Ratio ( Returns/Volatility) of that particular portfolio.\n",
    "\n",
    "Mark the 2 portfolios where:\n",
    "- Portfolio 1 - The Sharpe ratio is the highest \n",
    "- Portfolio 2 - The volatility is the lowest."
   ]
  },
  {
   "cell_type": "code",
   "execution_count": 11,
   "metadata": {},
   "outputs": [
    {
     "data": {
      "text/plain": [
       "array([0.13913914, 0.36736737, 0.14014014, 0.29229229, 0.06106106])"
      ]
     },
     "execution_count": 11,
     "metadata": {},
     "output_type": "execute_result"
    }
   ],
   "source": [
    "def normalize_weights( weights ):\n",
    "    for i in range(0,3):\n",
    "        weights  = np.round( weights, 3 ) \n",
    "        weights /= weights.sum()\n",
    "    return np.asarray(weights)\n",
    "    \n",
    "def random_weights():\n",
    "    weights  = np.random.rand(portfolio.shape[1])\n",
    "    return normalize_weights( weights )\n",
    "\n",
    "random_weights()"
   ]
  },
  {
   "cell_type": "code",
   "execution_count": null,
   "metadata": {},
   "outputs": [],
   "source": [
    "scatter_data = DataFrame()\n",
    "for i in range(0, 2500):\n",
    "    weights    = random_weights()\n",
    "    returns    = portfolio_annual_returns(    portfolio, weights )\n",
    "    volatility = portfolio_annual_volatility( portfolio, weights )\n",
    "    sharpe     = returns / volatility\n",
    "    scatter_data = scatter_data.append([{\n",
    "        \"weights\":    weights,\n",
    "        \"returns\":    returns,\n",
    "        \"volatility\": volatility,\n",
    "        \"sharpe\":     sharpe\n",
    "    }])\n",
    "\n",
    "scatter_data.reset_index(inplace=True, drop=True)\n",
    "scatter_data.head()"
   ]
  },
  {
   "cell_type": "markdown",
   "metadata": {},
   "source": [
    "Mark the 2 portfolios where:\n",
    "- Portfolio 1 - The Sharpe ratio is the highest \n",
    "- Portfolio 2 - The volatility is the lowest."
   ]
  },
  {
   "cell_type": "code",
   "execution_count": null,
   "metadata": {},
   "outputs": [],
   "source": [
    "point_max_sharpe     = scatter_data.loc[ scatter_data['sharpe'].idxmax()     ]\n",
    "point_max_sharpe"
   ]
  },
  {
   "cell_type": "code",
   "execution_count": null,
   "metadata": {},
   "outputs": [],
   "source": [
    "point_min_volatility = scatter_data.loc[ scatter_data['volatility'].idxmin() ]\n",
    "point_min_volatility"
   ]
  },
  {
   "cell_type": "code",
   "execution_count": null,
   "metadata": {},
   "outputs": [],
   "source": [
    "fig, ax = plt.subplots(figsize=(20, 10), nrows=1, ncols=1)\n",
    "plt.scatter( \n",
    "    scatter_data.volatility,     \n",
    "    scatter_data.returns, \n",
    "    c = scatter_data.sharpe\n",
    ")\n",
    "plt.title('Portfolo Weightings - Monty-Carlo Simulation')\n",
    "plt.ylabel('Annualized Return')\n",
    "plt.xlabel('Annualized Volatility')\n",
    "plt.colorbar()\n",
    "\n",
    "# Mark the 2 portfolios where\n",
    "plt.scatter( point_max_sharpe.volatility,     point_max_sharpe.returns,     marker=(5,1,0), c='b', s=200 )\n",
    "plt.scatter( point_min_volatility.volatility, point_min_volatility.returns, marker=(5,1,0), c='r', s=200 )"
   ]
  },
  {
   "cell_type": "markdown",
   "metadata": {},
   "source": [
    "---\n",
    "# Scikit-Optimize"
   ]
  },
  {
   "cell_type": "markdown",
   "metadata": {},
   "source": [
    "Mark the 2 portfolios where:\n",
    "- Portfolio 1 - The Sharpe ratio is the highest\n",
    "- Portfolio 2 - The volatility is the lowest."
   ]
  },
  {
   "cell_type": "code",
   "execution_count": null,
   "metadata": {},
   "outputs": [],
   "source": [
    "# Portfolio 1 - The Sharpe ratio is the highest \n",
    "def max_sharpe( weights ):\n",
    "    weights = normalize_weights(weights)\n",
    "    sharpe  = portfolio_annual_returns( portfolio, weights ) / portfolio_annual_volatility( portfolio, weights )\n",
    "    return  -sharpe  # convert maximization for minimization\n",
    "\n",
    "# DOCS: https://scikit-optimize.github.io/#skopt.gp_minimize\n",
    "skopt_max_sharpe = skopt.gp_minimize(\n",
    "    max_sharpe, \n",
    "    [(0., 1.),(0., 1.),(0., 1.),(0., 1.),(0., 1.)],  # must be floating point array\n",
    "    verbose=False,\n",
    "    n_calls=30,         # the number of evaluations of f \n",
    "    n_random_starts=5,  # the number of random initialization points\n",
    "    random_state=123    # the random seed    \n",
    ")\n",
    "print( \"Max Sharpe Ratio Value   - skopt:       \", -skopt_max_sharpe.fun )\n",
    "print( \"Max Sharpe Ratio Value   - Monty Carlo: \",  point_max_sharpe.sharpe  )\n",
    "print( \"Max Sharpe Ratio Improvement:           \",  round( abs(-skopt_max_sharpe.fun / point_max_sharpe.sharpe), 2), 'x'  )\n",
    "print( \"Max Sharpe Ratio Weights - skopt:       \",  skopt_max_sharpe.x )\n",
    "print( \"Max Sharpe Ratio Weights - Monty Carlo: \",  point_max_sharpe.weights  )"
   ]
  },
  {
   "cell_type": "code",
   "execution_count": null,
   "metadata": {},
   "outputs": [],
   "source": [
    "# Portfolio 2 - The volatility is the lowest.\n",
    "def min_volatility( weights ):\n",
    "    weights    = normalize_weights(weights)\n",
    "    volatility = portfolio_annual_volatility( portfolio, weights )\n",
    "    return volatility\n",
    "    \n",
    "# DOCS: https://scikit-optimize.github.io/#skopt.gp_minimize\n",
    "skopt_min_volatility = skopt.gp_minimize(\n",
    "    min_volatility, \n",
    "    [(0., 1.),(0., 1.),(0., 1.),(0., 1.),(0., 1.)],  # must be floating point array\n",
    "    verbose=False,\n",
    "    n_calls=30,         # the number of evaluations of f \n",
    "    n_random_starts=5,  # the number of random initialization points\n",
    "    random_state=123    # the random seed        \n",
    ")\n",
    "print( \"Min Volatility Value   - skopt:       \",  skopt_min_volatility.fun )\n",
    "print( \"Min Volatility Value   - Monty Carlo: \",  point_min_volatility.volatility  )\n",
    "print( \"Min Volatility Weights - skopt:       \",  skopt_min_volatility.x )\n",
    "print( \"Min Volatility Weights - Monty Carlo: \",  point_min_volatility.weights  )"
   ]
  },
  {
   "cell_type": "code",
   "execution_count": null,
   "metadata": {},
   "outputs": [],
   "source": [
    "fig, ax = plt.subplots(figsize=(20, 10), nrows=1, ncols=1)\n",
    "plt.scatter( \n",
    "    scatter_data.volatility,     \n",
    "    scatter_data.returns, \n",
    "    c = scatter_data.sharpe\n",
    ")\n",
    "plt.title('Portfolo Weightings - Monty-Carlo Simulation')\n",
    "plt.ylabel('Annualized Return')\n",
    "plt.xlabel('Annualized Volatility')\n",
    "plt.colorbar()\n",
    "\n",
    "# Mark the 2 portfolios where\n",
    "plt.scatter( point_max_sharpe.volatility,     point_max_sharpe.returns,     marker=(5,1,0), c='b', s=200 )\n",
    "plt.scatter( point_min_volatility.volatility, point_min_volatility.returns, marker=(5,1,0), c='r', s=200 )\n",
    "plt.scatter( \n",
    "    portfolio_annual_volatility( portfolio, normalize_weights(skopt_max_sharpe.x) ),     \n",
    "    portfolio_annual_returns(    portfolio, normalize_weights(skopt_max_sharpe.x) ), \n",
    "    marker=(4,2,0), c='b', s=200 \n",
    ")\n",
    "plt.scatter( \n",
    "    portfolio_annual_volatility( portfolio, normalize_weights(skopt_min_volatility.x) ),     \n",
    "    portfolio_annual_returns(    portfolio, normalize_weights(skopt_min_volatility.x) ), \n",
    "    marker=(4,2,0), c='r', s=200 \n",
    ")"
   ]
  },
  {
   "cell_type": "markdown",
   "metadata": {},
   "source": [
    "The 4 point +'s mark the skopt optimization points, whereas the 5 point stars represent the mix/max points of the Monty Carlo simulation# "
   ]
  },
  {
   "cell_type": "markdown",
   "metadata": {},
   "source": [
    "---\n",
    "# Analysis of All Stocks"
   ]
  },
  {
   "cell_type": "markdown",
   "metadata": {},
   "source": [
    "Prepare a scatter plot for differing weights of the individual stocks in the portfolio , the axes being the returns and volatility. Colour the data points based on the Sharpe Ratio ( Returns/Volatility) of that particular portfolio."
   ]
  },
  {
   "cell_type": "code",
   "execution_count": null,
   "metadata": {},
   "outputs": [],
   "source": [
    "summary_all['Sharpe'] = summary_all.meanAnnualReturn / summary_all.meanAnnualSTD\n",
    "\n",
    "fig, axes = plt.subplots(figsize=(20, 30), nrows=2, ncols=1)\n",
    "for n in range(0,2):\n",
    "    axes[n].scatter( \n",
    "        summary_all.meanAnnualReturn, \n",
    "        summary_all.meanAnnualSTD, \n",
    "        c     = summary_all['Sharpe'],\n",
    "        label = summary_all['Sharpe']\n",
    "    )\n",
    "    axes[n].set_title('Returns vs Volatility')\n",
    "    axes[n].set_xlabel('Annualized Return')\n",
    "    axes[n].set_ylabel('Annualized Volatility')\n",
    "\n",
    "for i in range(0, summary_all.shape[0]):\n",
    "    axes[n].annotate(summary_all.Name[i], (summary_all.meanAnnualReturn[i]+0.02, summary_all.meanAnnualSTD[i] - 0.005))"
   ]
  },
  {
   "cell_type": "markdown",
   "metadata": {},
   "source": [
    "Mark the 2 portfolios where:\n",
    "- Portfolio 1 - The Sharpe ratio is the highest \n",
    "- Portfolio 2 - The volatility is the lowest."
   ]
  },
  {
   "cell_type": "code",
   "execution_count": null,
   "metadata": {},
   "outputs": [],
   "source": [
    "portfolio_1 = summary_all.sort_values('Sharpe',ascending=False).head(5)\n",
    "portfolio_1"
   ]
  },
  {
   "cell_type": "code",
   "execution_count": null,
   "metadata": {},
   "outputs": [],
   "source": [
    "portfolio_2 = summary_all.sort_values('meanAnnualSTD',ascending=True).head(5)\n",
    "portfolio_2"
   ]
  },
  {
   "cell_type": "code",
   "execution_count": null,
   "metadata": {},
   "outputs": [],
   "source": []
  },
  {
   "cell_type": "code",
   "execution_count": null,
   "metadata": {},
   "outputs": [],
   "source": []
  }
 ],
 "metadata": {
  "kernelspec": {
   "display_name": "Python 3",
   "language": "python",
   "name": "python3"
  },
  "language_info": {
   "codemirror_mode": {
    "name": "ipython",
    "version": 3
   },
   "file_extension": ".py",
   "mimetype": "text/x-python",
   "name": "python",
   "nbconvert_exporter": "python",
   "pygments_lexer": "ipython3",
   "version": "3.7.3"
  }
 },
 "nbformat": 4,
 "nbformat_minor": 4
}
