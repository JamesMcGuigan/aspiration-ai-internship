{
 "cells": [
  {
   "cell_type": "markdown",
   "metadata": {},
   "source": [
    "# Module 5 - Modern Portfolio Theory\n",
    "\n",
    "In this module, We’ll be looking at investment portfolio optimization with python, the\n",
    "fundamental concept of diversification and the creation of an efficient frontier that can be used by investors to choose\n",
    "specific mixes of assets based on investment goals; that is, the trade off between their desired level of portfolio\n",
    "return vs their desired level of portfolio risk.\n",
    "\n",
    "[Modern Portfolio Theory](https://www.investopedia.com/terms/m/modernportfoliotheory.asp) suggests that it is possible to \n",
    "construct an \"efficient frontier\" of optimal portfolios,\n",
    "offering the maximum possible expected return for a given level of risk. It suggests that it is not enough to look at\n",
    "the expected risk and return of one particular stock. By investing in more than one stock, an investor can reap the\n",
    "benefits of diversification, particularly a reduction in the riskiness of the portfolio. MPT quantifies the benefits of\n",
    "diversification, also known as not putting all of your eggs in one basket."
   ]
  },
  {
   "cell_type": "markdown",
   "metadata": {},
   "source": [
    "## Problem Statements"
   ]
  },
  {
   "cell_type": "markdown",
   "metadata": {},
   "source": [
    "## 5.1 \n",
    "For your chosen stock, calculate the mean daily return and daily standard deviation of returns, and then just annualise them to get mean expected annual return and volatility of that single stock. ( annual mean = daily mean * 252 , annual stdev = daily stdev * sqrt(252) )"
   ]
  },
  {
   "cell_type": "code",
   "execution_count": null,
   "metadata": {},
   "outputs": [],
   "source": []
  },
  {
   "cell_type": "markdown",
   "metadata": {},
   "source": [
    "## 5.2 \n",
    "Now, we need to diversify our portfolio. Build your own portfolio by choosing any 5 stocks, preferably of different sectors and different caps. Assume that all 5 have the same weightage, i.e. 20% . Now calculate the annual returns and volatility of the entire portfolio ( Hint : Don't forget to use the covariance )"
   ]
  },
  {
   "cell_type": "markdown",
   "metadata": {},
   "source": [
    "## 5.3 \n",
    "Prepare a scatter plot for differing weights of the individual stocks in the portfolio , the axes being the returns and volatility. Colour the data points based on the Sharpe Ratio ( Returns/Volatility) of that particular portfolio."
   ]
  },
  {
   "cell_type": "markdown",
   "metadata": {},
   "source": [
    "# 5.4 Mark the 2 portfolios where:\n",
    "- Portfolio 1 - The Sharpe ratio is the highest \n",
    "- Portfolio 2 - The volatility is the lowest."
   ]
  },
  {
   "cell_type": "code",
   "execution_count": null,
   "metadata": {},
   "outputs": [],
   "source": []
  }
 ],
 "metadata": {
  "kernelspec": {
   "display_name": "Python 3",
   "language": "python",
   "name": "python3"
  },
  "language_info": {
   "codemirror_mode": {
    "name": "ipython",
    "version": 3
   },
   "file_extension": ".py",
   "mimetype": "text/x-python",
   "name": "python",
   "nbconvert_exporter": "python",
   "pygments_lexer": "ipython3",
   "version": "3.7.3"
  }
 },
 "nbformat": 4,
 "nbformat_minor": 4
}
