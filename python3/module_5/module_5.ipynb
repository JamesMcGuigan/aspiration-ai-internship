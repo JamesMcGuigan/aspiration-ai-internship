{
 "cells": [
  {
   "cell_type": "markdown",
   "metadata": {},
   "source": [
    "# Module 5 - Modern Portfolio Theory\n",
    "\n",
    "In this module, We’ll be looking at investment portfolio optimization with python, the\n",
    "fundamental concept of diversification and the creation of an efficient frontier that can be used by investors to choose\n",
    "specific mixes of assets based on investment goals; that is, the trade off between their desired level of portfolio\n",
    "return vs their desired level of portfolio risk.\n",
    "\n",
    "[Modern Portfolio Theory](https://www.investopedia.com/terms/m/modernportfoliotheory.asp) suggests that it is possible to \n",
    "construct an \"efficient frontier\" of optimal portfolios,\n",
    "offering the maximum possible expected return for a given level of risk. It suggests that it is not enough to look at\n",
    "the expected risk and return of one particular stock. By investing in more than one stock, an investor can reap the\n",
    "benefits of diversification, particularly a reduction in the riskiness of the portfolio. MPT quantifies the benefits of\n",
    "diversification, also known as not putting all of your eggs in one basket."
   ]
  },
  {
   "cell_type": "code",
   "execution_count": 1,
   "metadata": {},
   "outputs": [],
   "source": [
    "import pandas as pd\n",
    "import numpy as np\n",
    "from pandas import Series, DataFrame\n",
    "import seaborn as sns\n",
    "import matplotlib.pyplot as plt\n",
    "import os\n",
    "import re\n",
    "import glob\n",
    "import random"
   ]
  },
  {
   "cell_type": "markdown",
   "metadata": {},
   "source": [
    "## Problem Statements"
   ]
  },
  {
   "cell_type": "markdown",
   "metadata": {},
   "source": [
    "## 5.1 \n",
    "For your chosen stock, calculate the mean daily return and daily standard deviation of returns, and then just annualise them to get mean expected annual return and volatility of that single stock. ( annual mean = daily mean * 252 , annual stdev = daily stdev * sqrt(252) )"
   ]
  },
  {
   "cell_type": "code",
   "execution_count": 2,
   "metadata": {},
   "outputs": [
    {
     "data": {
      "text/html": [
       "<div>\n",
       "<style scoped>\n",
       "    .dataframe tbody tr th:only-of-type {\n",
       "        vertical-align: middle;\n",
       "    }\n",
       "\n",
       "    .dataframe tbody tr th {\n",
       "        vertical-align: top;\n",
       "    }\n",
       "\n",
       "    .dataframe thead th {\n",
       "        text-align: right;\n",
       "    }\n",
       "</style>\n",
       "<table border=\"1\" class=\"dataframe\">\n",
       "  <thead>\n",
       "    <tr style=\"text-align: right;\">\n",
       "      <th></th>\n",
       "      <th>Cap</th>\n",
       "      <th>Name</th>\n",
       "      <th>meanAnnualReturn</th>\n",
       "      <th>meanAnnualSTD</th>\n",
       "      <th>meanDailyReturn</th>\n",
       "      <th>meanDailySTD</th>\n",
       "    </tr>\n",
       "    <tr>\n",
       "      <th>Name</th>\n",
       "      <th></th>\n",
       "      <th></th>\n",
       "      <th></th>\n",
       "      <th></th>\n",
       "      <th></th>\n",
       "      <th></th>\n",
       "    </tr>\n",
       "  </thead>\n",
       "  <tbody>\n",
       "    <tr>\n",
       "      <th>ADANIPORTS</th>\n",
       "      <td>Large_Cap</td>\n",
       "      <td>ADANIPORTS</td>\n",
       "      <td>0.060499</td>\n",
       "      <td>0.309751</td>\n",
       "      <td>0.00024</td>\n",
       "      <td>0.019512</td>\n",
       "    </tr>\n",
       "  </tbody>\n",
       "</table>\n",
       "</div>"
      ],
      "text/plain": [
       "                  Cap        Name  meanAnnualReturn  meanAnnualSTD  \\\n",
       "Name                                                                 \n",
       "ADANIPORTS  Large_Cap  ADANIPORTS          0.060499       0.309751   \n",
       "\n",
       "            meanDailyReturn  meanDailySTD  \n",
       "Name                                       \n",
       "ADANIPORTS          0.00024      0.019512  "
      ]
     },
     "execution_count": 2,
     "metadata": {},
     "output_type": "execute_result"
    }
   ],
   "source": [
    "def read_csv( filename ):\n",
    "    if isinstance(filename, pd.DataFrame): return filename  # OPTIMIZATION: allow passthrough of existing dataframe\n",
    "    \n",
    "    dataframe = pd.read_csv( filename, parse_dates=['Date'] )\n",
    "    dataframe.set_index( dataframe.Date, inplace=True )\n",
    "    return dataframe\n",
    "\n",
    "def meanDailyReturn( filename ):\n",
    "    return read_csv( filename ).Close_Price.pct_change().dropna().mean()\n",
    "\n",
    "def meanDailySTD( filename ):\n",
    "    return read_csv( filename ).Close_Price.pct_change().dropna().std()\n",
    "\n",
    "def meanAnnualReturn( filename ):\n",
    "    return meanDailyReturn(filename) * 252\n",
    "\n",
    "def meanAnnualSTD( filename ):\n",
    "    return meanDailySTD(filename) * np.sqrt(252)\n",
    "\n",
    "def getName( filename ):\n",
    "    return re.sub(r'^.+/|\\.[^.]+$',     '',    filename)\n",
    "\n",
    "def getCap( filename ):\n",
    "    return re.sub(r'^.*/(\\w+_Cap)/.*$', '\\\\1', filename)\n",
    "\n",
    "def calcReturnVolatility( filename ):\n",
    "    input  = read_csv( filename )\n",
    "    output = DataFrame([{\n",
    "        \"Name\":             getName( filename ),\n",
    "        \"Cap\":              getCap(  filename ),\n",
    "        \"meanDailyReturn\":  meanDailyReturn( input ),\n",
    "        \"meanDailySTD\":     meanDailySTD( input ),\n",
    "        \"meanAnnualReturn\": meanAnnualReturn( input ),\n",
    "        \"meanAnnualSTD\":    meanAnnualSTD( input )\n",
    "    }])\n",
    "    output.set_index( output.Name, inplace=True, drop=False )\n",
    "    return output\n",
    "\n",
    "stock = '../../data_output/module_1/python3/stocks/Large_Cap/ADANIPORTS.csv'\n",
    "calcReturnVolatility(stock)"
   ]
  },
  {
   "cell_type": "markdown",
   "metadata": {},
   "source": [
    "## 5.2 \n",
    "Now, we need to diversify our portfolio. Build your own portfolio by choosing any 5 stocks, preferably of different sectors and different caps. Assume that all 5 have the same weightage, i.e. 20% . Now calculate the annual returns and volatility of the entire portfolio ( Hint : Don't forget to use the covariance )"
   ]
  },
  {
   "cell_type": "code",
   "execution_count": 3,
   "metadata": {},
   "outputs": [
    {
     "data": {
      "text/html": [
       "<div>\n",
       "<style scoped>\n",
       "    .dataframe tbody tr th:only-of-type {\n",
       "        vertical-align: middle;\n",
       "    }\n",
       "\n",
       "    .dataframe tbody tr th {\n",
       "        vertical-align: top;\n",
       "    }\n",
       "\n",
       "    .dataframe thead th {\n",
       "        text-align: right;\n",
       "    }\n",
       "</style>\n",
       "<table border=\"1\" class=\"dataframe\">\n",
       "  <thead>\n",
       "    <tr style=\"text-align: right;\">\n",
       "      <th></th>\n",
       "      <th>Cap</th>\n",
       "      <th>Name</th>\n",
       "      <th>meanAnnualReturn</th>\n",
       "      <th>meanAnnualSTD</th>\n",
       "      <th>meanDailyReturn</th>\n",
       "      <th>meanDailySTD</th>\n",
       "    </tr>\n",
       "    <tr>\n",
       "      <th>Name</th>\n",
       "      <th></th>\n",
       "      <th></th>\n",
       "      <th></th>\n",
       "      <th></th>\n",
       "      <th></th>\n",
       "      <th></th>\n",
       "    </tr>\n",
       "  </thead>\n",
       "  <tbody>\n",
       "    <tr>\n",
       "      <th>DRREDDY</th>\n",
       "      <td>Large_Cap</td>\n",
       "      <td>DRREDDY</td>\n",
       "      <td>0.068044</td>\n",
       "      <td>0.298319</td>\n",
       "      <td>0.000270</td>\n",
       "      <td>0.018792</td>\n",
       "    </tr>\n",
       "    <tr>\n",
       "      <th>BAJFINANCE</th>\n",
       "      <td>Large_Cap</td>\n",
       "      <td>BAJFINANCE</td>\n",
       "      <td>0.454332</td>\n",
       "      <td>0.321058</td>\n",
       "      <td>0.001803</td>\n",
       "      <td>0.020225</td>\n",
       "    </tr>\n",
       "    <tr>\n",
       "      <th>NBCC</th>\n",
       "      <td>Mid_Cap</td>\n",
       "      <td>NBCC</td>\n",
       "      <td>-0.515176</td>\n",
       "      <td>0.508672</td>\n",
       "      <td>-0.002044</td>\n",
       "      <td>0.032043</td>\n",
       "    </tr>\n",
       "    <tr>\n",
       "      <th>APOLLOTYRE</th>\n",
       "      <td>Mid_Cap</td>\n",
       "      <td>APOLLOTYRE</td>\n",
       "      <td>-0.064303</td>\n",
       "      <td>0.310445</td>\n",
       "      <td>-0.000255</td>\n",
       "      <td>0.019556</td>\n",
       "    </tr>\n",
       "    <tr>\n",
       "      <th>VOLTAS</th>\n",
       "      <td>Mid_Cap</td>\n",
       "      <td>VOLTAS</td>\n",
       "      <td>0.191030</td>\n",
       "      <td>0.308346</td>\n",
       "      <td>0.000758</td>\n",
       "      <td>0.019424</td>\n",
       "    </tr>\n",
       "  </tbody>\n",
       "</table>\n",
       "</div>"
      ],
      "text/plain": [
       "                  Cap        Name  meanAnnualReturn  meanAnnualSTD  \\\n",
       "Name                                                                 \n",
       "DRREDDY     Large_Cap     DRREDDY          0.068044       0.298319   \n",
       "BAJFINANCE  Large_Cap  BAJFINANCE          0.454332       0.321058   \n",
       "NBCC          Mid_Cap        NBCC         -0.515176       0.508672   \n",
       "APOLLOTYRE    Mid_Cap  APOLLOTYRE         -0.064303       0.310445   \n",
       "VOLTAS        Mid_Cap      VOLTAS          0.191030       0.308346   \n",
       "\n",
       "            meanDailyReturn  meanDailySTD  \n",
       "Name                                       \n",
       "DRREDDY            0.000270      0.018792  \n",
       "BAJFINANCE         0.001803      0.020225  \n",
       "NBCC              -0.002044      0.032043  \n",
       "APOLLOTYRE        -0.000255      0.019556  \n",
       "VOLTAS             0.000758      0.019424  "
      ]
     },
     "execution_count": 3,
     "metadata": {},
     "output_type": "execute_result"
    }
   ],
   "source": [
    "filenames_all = glob.glob('../../data_output/module_1/python3/stocks/**/*.csv')\n",
    "filenames     = random.sample( filenames_all, 5 )\n",
    "\n",
    "summary_all   = pd.concat([ calcReturnVolatility(stock) for stock in filenames_all ])\n",
    "summary       = pd.concat([ calcReturnVolatility(stock) for stock in filenames     ])\n",
    "summary"
   ]
  },
  {
   "cell_type": "code",
   "execution_count": 4,
   "metadata": {},
   "outputs": [
    {
     "data": {
      "text/html": [
       "<div>\n",
       "<style scoped>\n",
       "    .dataframe tbody tr th:only-of-type {\n",
       "        vertical-align: middle;\n",
       "    }\n",
       "\n",
       "    .dataframe tbody tr th {\n",
       "        vertical-align: top;\n",
       "    }\n",
       "\n",
       "    .dataframe thead th {\n",
       "        text-align: right;\n",
       "    }\n",
       "</style>\n",
       "<table border=\"1\" class=\"dataframe\">\n",
       "  <thead>\n",
       "    <tr style=\"text-align: right;\">\n",
       "      <th></th>\n",
       "      <th>DRREDDY</th>\n",
       "      <th>BAJFINANCE</th>\n",
       "      <th>NBCC</th>\n",
       "      <th>APOLLOTYRE</th>\n",
       "      <th>VOLTAS</th>\n",
       "    </tr>\n",
       "    <tr>\n",
       "      <th>Date</th>\n",
       "      <th></th>\n",
       "      <th></th>\n",
       "      <th></th>\n",
       "      <th></th>\n",
       "      <th></th>\n",
       "    </tr>\n",
       "  </thead>\n",
       "  <tbody>\n",
       "    <tr>\n",
       "      <th>2017-05-15</th>\n",
       "      <td>2675.80</td>\n",
       "      <td>1332.95</td>\n",
       "      <td>197.60</td>\n",
       "      <td>231.90</td>\n",
       "      <td>431.85</td>\n",
       "    </tr>\n",
       "    <tr>\n",
       "      <th>2017-05-16</th>\n",
       "      <td>2724.10</td>\n",
       "      <td>1347.75</td>\n",
       "      <td>198.25</td>\n",
       "      <td>234.40</td>\n",
       "      <td>432.45</td>\n",
       "    </tr>\n",
       "    <tr>\n",
       "      <th>2017-05-17</th>\n",
       "      <td>2736.90</td>\n",
       "      <td>1324.80</td>\n",
       "      <td>200.35</td>\n",
       "      <td>237.35</td>\n",
       "      <td>430.20</td>\n",
       "    </tr>\n",
       "    <tr>\n",
       "      <th>2017-05-18</th>\n",
       "      <td>2678.95</td>\n",
       "      <td>1314.55</td>\n",
       "      <td>194.20</td>\n",
       "      <td>232.65</td>\n",
       "      <td>414.10</td>\n",
       "    </tr>\n",
       "    <tr>\n",
       "      <th>2017-05-19</th>\n",
       "      <td>2656.45</td>\n",
       "      <td>1289.15</td>\n",
       "      <td>193.55</td>\n",
       "      <td>234.65</td>\n",
       "      <td>415.75</td>\n",
       "    </tr>\n",
       "  </tbody>\n",
       "</table>\n",
       "</div>"
      ],
      "text/plain": [
       "            DRREDDY  BAJFINANCE    NBCC  APOLLOTYRE  VOLTAS\n",
       "Date                                                       \n",
       "2017-05-15  2675.80     1332.95  197.60      231.90  431.85\n",
       "2017-05-16  2724.10     1347.75  198.25      234.40  432.45\n",
       "2017-05-17  2736.90     1324.80  200.35      237.35  430.20\n",
       "2017-05-18  2678.95     1314.55  194.20      232.65  414.10\n",
       "2017-05-19  2656.45     1289.15  193.55      234.65  415.75"
      ]
     },
     "execution_count": 4,
     "metadata": {},
     "output_type": "execute_result"
    }
   ],
   "source": [
    "portfolio = DataFrame()\n",
    "for filename in filenames:\n",
    "    portfolio[ getName(filename) ] = read_csv(filename).Close_Price\n",
    "portfolio.head()"
   ]
  },
  {
   "cell_type": "code",
   "execution_count": 5,
   "metadata": {},
   "outputs": [
    {
     "data": {
      "text/plain": [
       "array([0.2, 0.2, 0.2, 0.2, 0.2])"
      ]
     },
     "execution_count": 5,
     "metadata": {},
     "output_type": "execute_result"
    }
   ],
   "source": [
    "weights = np.full( portfolio.shape[1], 1/portfolio.shape[1] )\n",
    "weights"
   ]
  },
  {
   "cell_type": "code",
   "execution_count": 6,
   "metadata": {},
   "outputs": [
    {
     "data": {
      "text/plain": [
       "0.026785455925437757"
      ]
     },
     "execution_count": 6,
     "metadata": {},
     "output_type": "execute_result"
    }
   ],
   "source": [
    "# Portfolio Mean Average Return can be calculated either from: the summary data or the portfolio table\n",
    "portfolio_annual_returns = np.sum( portfolio.pct_change().mean() * weights ) * 252  \n",
    "portfolio_annual_returns"
   ]
  },
  {
   "cell_type": "code",
   "execution_count": 7,
   "metadata": {},
   "outputs": [
    {
     "data": {
      "text/plain": [
       "0.026785455925437775"
      ]
     },
     "execution_count": 7,
     "metadata": {},
     "output_type": "execute_result"
    }
   ],
   "source": [
    "portfolio_annual_returns = summary.meanAnnualReturn.mean()\n",
    "portfolio_annual_returns"
   ]
  },
  {
   "cell_type": "code",
   "execution_count": 8,
   "metadata": {},
   "outputs": [
    {
     "data": {
      "text/plain": [
       "0.026785455925437775"
      ]
     },
     "execution_count": 8,
     "metadata": {},
     "output_type": "execute_result"
    }
   ],
   "source": [
    "# NOTE: mean().mean() works because weights between each of the stocks is equal\n",
    "portfolio_annual_returns = portfolio.pct_change().mean().mean() * 252  \n",
    "portfolio_annual_returns"
   ]
  },
  {
   "cell_type": "code",
   "execution_count": 9,
   "metadata": {},
   "outputs": [
    {
     "data": {
      "text/html": [
       "<div>\n",
       "<style scoped>\n",
       "    .dataframe tbody tr th:only-of-type {\n",
       "        vertical-align: middle;\n",
       "    }\n",
       "\n",
       "    .dataframe tbody tr th {\n",
       "        vertical-align: top;\n",
       "    }\n",
       "\n",
       "    .dataframe thead th {\n",
       "        text-align: right;\n",
       "    }\n",
       "</style>\n",
       "<table border=\"1\" class=\"dataframe\">\n",
       "  <thead>\n",
       "    <tr style=\"text-align: right;\">\n",
       "      <th></th>\n",
       "      <th>DRREDDY</th>\n",
       "      <th>BAJFINANCE</th>\n",
       "      <th>NBCC</th>\n",
       "      <th>APOLLOTYRE</th>\n",
       "      <th>VOLTAS</th>\n",
       "    </tr>\n",
       "  </thead>\n",
       "  <tbody>\n",
       "    <tr>\n",
       "      <th>DRREDDY</th>\n",
       "      <td>0.000353</td>\n",
       "      <td>0.000071</td>\n",
       "      <td>0.000080</td>\n",
       "      <td>0.000064</td>\n",
       "      <td>0.000029</td>\n",
       "    </tr>\n",
       "    <tr>\n",
       "      <th>BAJFINANCE</th>\n",
       "      <td>0.000071</td>\n",
       "      <td>0.000409</td>\n",
       "      <td>0.000154</td>\n",
       "      <td>0.000135</td>\n",
       "      <td>0.000138</td>\n",
       "    </tr>\n",
       "    <tr>\n",
       "      <th>NBCC</th>\n",
       "      <td>0.000080</td>\n",
       "      <td>0.000154</td>\n",
       "      <td>0.001027</td>\n",
       "      <td>0.000144</td>\n",
       "      <td>0.000130</td>\n",
       "    </tr>\n",
       "    <tr>\n",
       "      <th>APOLLOTYRE</th>\n",
       "      <td>0.000064</td>\n",
       "      <td>0.000135</td>\n",
       "      <td>0.000144</td>\n",
       "      <td>0.000382</td>\n",
       "      <td>0.000127</td>\n",
       "    </tr>\n",
       "    <tr>\n",
       "      <th>VOLTAS</th>\n",
       "      <td>0.000029</td>\n",
       "      <td>0.000138</td>\n",
       "      <td>0.000130</td>\n",
       "      <td>0.000127</td>\n",
       "      <td>0.000377</td>\n",
       "    </tr>\n",
       "  </tbody>\n",
       "</table>\n",
       "</div>"
      ],
      "text/plain": [
       "             DRREDDY  BAJFINANCE      NBCC  APOLLOTYRE    VOLTAS\n",
       "DRREDDY     0.000353    0.000071  0.000080    0.000064  0.000029\n",
       "BAJFINANCE  0.000071    0.000409  0.000154    0.000135  0.000138\n",
       "NBCC        0.000080    0.000154  0.001027    0.000144  0.000130\n",
       "APOLLOTYRE  0.000064    0.000135  0.000144    0.000382  0.000127\n",
       "VOLTAS      0.000029    0.000138  0.000130    0.000127  0.000377"
      ]
     },
     "execution_count": 9,
     "metadata": {},
     "output_type": "execute_result"
    }
   ],
   "source": [
    "# Portfolio Covarence matrix\n",
    "portfolio_covarence = portfolio.pct_change().cov()\n",
    "portfolio_covarence"
   ]
  },
  {
   "cell_type": "code",
   "execution_count": 10,
   "metadata": {},
   "outputs": [
    {
     "data": {
      "text/plain": [
       "0.05"
      ]
     },
     "execution_count": 10,
     "metadata": {},
     "output_type": "execute_result"
    }
   ],
   "source": [
    "portfolio_annual_volatility = np.sqrt(\n",
    "    np.dot( \n",
    "        weights.T, \n",
    "        np.dot( portfolio.pct_change().cov(), weights )\n",
    "    ) \n",
    "    * np.sqrt(252)\n",
    ")\n",
    "round( portfolio_annual_volatility, 2 )"
   ]
  },
  {
   "cell_type": "code",
   "execution_count": 11,
   "metadata": {},
   "outputs": [
    {
     "name": "stdout",
     "output_type": "stream",
     "text": [
      "Portfolio Annualized Mean Return:  0.03\n",
      "Portfolio Annualized Volatility:   0.05\n"
     ]
    }
   ],
   "source": [
    "print(\"Portfolio Annualized Mean Return: \", round(portfolio_annual_returns,2)    )\n",
    "print(\"Portfolio Annualized Volatility:  \", round(portfolio_annual_volatility,2) )"
   ]
  },
  {
   "cell_type": "markdown",
   "metadata": {},
   "source": [
    "## 5.3 \n",
    "Prepare a scatter plot for differing weights of the individual stocks in the portfolio , the axes being the returns and volatility. Colour the data points based on the Sharpe Ratio ( Returns/Volatility) of that particular portfolio."
   ]
  },
  {
   "cell_type": "code",
   "execution_count": 12,
   "metadata": {},
   "outputs": [
    {
     "data": {
      "image/png": "[encoded data removed]",
      "text/plain": [
       "<Figure size 1440x2160 with 2 Axes>"
      ]
     },
     "metadata": {
      "needs_background": "light"
     },
     "output_type": "display_data"
    }
   ],
   "source": [
    "summary_all['Sharpe'] = summary_all.meanAnnualReturn / summary_all.meanAnnualSTD\n",
    "\n",
    "fig, axes = plt.subplots(figsize=(20, 30), nrows=2, ncols=1)\n",
    "for n in range(0,2):\n",
    "    axes[n].scatter( \n",
    "        summary_all.meanAnnualReturn, \n",
    "        summary_all.meanAnnualSTD, \n",
    "        c     = summary_all['Sharpe'],\n",
    "        label = summary_all['Sharpe']\n",
    "    )\n",
    "    axes[n].set_title('Returns vs Volatility')\n",
    "    axes[n].set_xlabel('Annualized Return')\n",
    "    axes[n].set_ylabel('Annualized Volatility')\n",
    "\n",
    "for i in range(0, summary_all.shape[0]):\n",
    "    axes[n].annotate(summary_all.Name[i], (summary_all.meanAnnualReturn[i]+0.02, summary_all.meanAnnualSTD[i] - 0.005))"
   ]
  },
  {
   "cell_type": "markdown",
   "metadata": {},
   "source": [
    "# 5.4 Mark the 2 portfolios where:\n",
    "- Portfolio 1 - The Sharpe ratio is the highest \n",
    "- Portfolio 2 - The volatility is the lowest."
   ]
  },
  {
   "cell_type": "code",
   "execution_count": 13,
   "metadata": {},
   "outputs": [
    {
     "data": {
      "text/html": [
       "<div>\n",
       "<style scoped>\n",
       "    .dataframe tbody tr th:only-of-type {\n",
       "        vertical-align: middle;\n",
       "    }\n",
       "\n",
       "    .dataframe tbody tr th {\n",
       "        vertical-align: top;\n",
       "    }\n",
       "\n",
       "    .dataframe thead th {\n",
       "        text-align: right;\n",
       "    }\n",
       "</style>\n",
       "<table border=\"1\" class=\"dataframe\">\n",
       "  <thead>\n",
       "    <tr style=\"text-align: right;\">\n",
       "      <th></th>\n",
       "      <th>Cap</th>\n",
       "      <th>Name</th>\n",
       "      <th>meanAnnualReturn</th>\n",
       "      <th>meanAnnualSTD</th>\n",
       "      <th>meanDailyReturn</th>\n",
       "      <th>meanDailySTD</th>\n",
       "      <th>Sharpe</th>\n",
       "    </tr>\n",
       "    <tr>\n",
       "      <th>Name</th>\n",
       "      <th></th>\n",
       "      <th></th>\n",
       "      <th></th>\n",
       "      <th></th>\n",
       "      <th></th>\n",
       "      <th></th>\n",
       "      <th></th>\n",
       "    </tr>\n",
       "  </thead>\n",
       "  <tbody>\n",
       "    <tr>\n",
       "      <th>HINDUNILVR</th>\n",
       "      <td>Large_Cap</td>\n",
       "      <td>HINDUNILVR</td>\n",
       "      <td>0.299378</td>\n",
       "      <td>0.194041</td>\n",
       "      <td>0.001188</td>\n",
       "      <td>0.012223</td>\n",
       "      <td>1.542859</td>\n",
       "    </tr>\n",
       "    <tr>\n",
       "      <th>TITAN</th>\n",
       "      <td>Large_Cap</td>\n",
       "      <td>TITAN</td>\n",
       "      <td>0.491593</td>\n",
       "      <td>0.324836</td>\n",
       "      <td>0.001951</td>\n",
       "      <td>0.020463</td>\n",
       "      <td>1.513358</td>\n",
       "    </tr>\n",
       "    <tr>\n",
       "      <th>BAJFINANCE</th>\n",
       "      <td>Large_Cap</td>\n",
       "      <td>BAJFINANCE</td>\n",
       "      <td>0.454332</td>\n",
       "      <td>0.321058</td>\n",
       "      <td>0.001803</td>\n",
       "      <td>0.020225</td>\n",
       "      <td>1.415107</td>\n",
       "    </tr>\n",
       "    <tr>\n",
       "      <th>HDFCBANK</th>\n",
       "      <td>Large_Cap</td>\n",
       "      <td>HDFCBANK</td>\n",
       "      <td>0.209085</td>\n",
       "      <td>0.150248</td>\n",
       "      <td>0.000830</td>\n",
       "      <td>0.009465</td>\n",
       "      <td>1.391600</td>\n",
       "    </tr>\n",
       "    <tr>\n",
       "      <th>MINDTREE</th>\n",
       "      <td>Mid_Cap</td>\n",
       "      <td>MINDTREE</td>\n",
       "      <td>0.392570</td>\n",
       "      <td>0.341485</td>\n",
       "      <td>0.001558</td>\n",
       "      <td>0.021512</td>\n",
       "      <td>1.149595</td>\n",
       "    </tr>\n",
       "  </tbody>\n",
       "</table>\n",
       "</div>"
      ],
      "text/plain": [
       "                  Cap        Name  meanAnnualReturn  meanAnnualSTD  \\\n",
       "Name                                                                 \n",
       "HINDUNILVR  Large_Cap  HINDUNILVR          0.299378       0.194041   \n",
       "TITAN       Large_Cap       TITAN          0.491593       0.324836   \n",
       "BAJFINANCE  Large_Cap  BAJFINANCE          0.454332       0.321058   \n",
       "HDFCBANK    Large_Cap    HDFCBANK          0.209085       0.150248   \n",
       "MINDTREE      Mid_Cap    MINDTREE          0.392570       0.341485   \n",
       "\n",
       "            meanDailyReturn  meanDailySTD    Sharpe  \n",
       "Name                                                 \n",
       "HINDUNILVR         0.001188      0.012223  1.542859  \n",
       "TITAN              0.001951      0.020463  1.513358  \n",
       "BAJFINANCE         0.001803      0.020225  1.415107  \n",
       "HDFCBANK           0.000830      0.009465  1.391600  \n",
       "MINDTREE           0.001558      0.021512  1.149595  "
      ]
     },
     "execution_count": 13,
     "metadata": {},
     "output_type": "execute_result"
    }
   ],
   "source": [
    "portfolio_1 = summary_all.sort_values('Sharpe',ascending=False).head(5)\n",
    "portfolio_1"
   ]
  },
  {
   "cell_type": "code",
   "execution_count": 14,
   "metadata": {},
   "outputs": [
    {
     "data": {
      "text/html": [
       "<div>\n",
       "<style scoped>\n",
       "    .dataframe tbody tr th:only-of-type {\n",
       "        vertical-align: middle;\n",
       "    }\n",
       "\n",
       "    .dataframe tbody tr th {\n",
       "        vertical-align: top;\n",
       "    }\n",
       "\n",
       "    .dataframe thead th {\n",
       "        text-align: right;\n",
       "    }\n",
       "</style>\n",
       "<table border=\"1\" class=\"dataframe\">\n",
       "  <thead>\n",
       "    <tr style=\"text-align: right;\">\n",
       "      <th></th>\n",
       "      <th>Cap</th>\n",
       "      <th>Name</th>\n",
       "      <th>meanAnnualReturn</th>\n",
       "      <th>meanAnnualSTD</th>\n",
       "      <th>meanDailyReturn</th>\n",
       "      <th>meanDailySTD</th>\n",
       "      <th>Sharpe</th>\n",
       "    </tr>\n",
       "    <tr>\n",
       "      <th>Name</th>\n",
       "      <th></th>\n",
       "      <th></th>\n",
       "      <th></th>\n",
       "      <th></th>\n",
       "      <th></th>\n",
       "      <th></th>\n",
       "      <th></th>\n",
       "    </tr>\n",
       "  </thead>\n",
       "  <tbody>\n",
       "    <tr>\n",
       "      <th>HDFCBANK</th>\n",
       "      <td>Large_Cap</td>\n",
       "      <td>HDFCBANK</td>\n",
       "      <td>0.209085</td>\n",
       "      <td>0.150248</td>\n",
       "      <td>0.000830</td>\n",
       "      <td>0.009465</td>\n",
       "      <td>1.391600</td>\n",
       "    </tr>\n",
       "    <tr>\n",
       "      <th>HINDUNILVR</th>\n",
       "      <td>Large_Cap</td>\n",
       "      <td>HINDUNILVR</td>\n",
       "      <td>0.299378</td>\n",
       "      <td>0.194041</td>\n",
       "      <td>0.001188</td>\n",
       "      <td>0.012223</td>\n",
       "      <td>1.542859</td>\n",
       "    </tr>\n",
       "    <tr>\n",
       "      <th>ASIANPAINT</th>\n",
       "      <td>Large_Cap</td>\n",
       "      <td>ASIANPAINT</td>\n",
       "      <td>0.097990</td>\n",
       "      <td>0.209462</td>\n",
       "      <td>0.000389</td>\n",
       "      <td>0.013195</td>\n",
       "      <td>0.467816</td>\n",
       "    </tr>\n",
       "    <tr>\n",
       "      <th>HDFC</th>\n",
       "      <td>Large_Cap</td>\n",
       "      <td>HDFC</td>\n",
       "      <td>0.137945</td>\n",
       "      <td>0.214557</td>\n",
       "      <td>0.000547</td>\n",
       "      <td>0.013516</td>\n",
       "      <td>0.642930</td>\n",
       "    </tr>\n",
       "    <tr>\n",
       "      <th>ITC</th>\n",
       "      <td>Large_Cap</td>\n",
       "      <td>ITC</td>\n",
       "      <td>0.045928</td>\n",
       "      <td>0.224856</td>\n",
       "      <td>0.000182</td>\n",
       "      <td>0.014165</td>\n",
       "      <td>0.204255</td>\n",
       "    </tr>\n",
       "  </tbody>\n",
       "</table>\n",
       "</div>"
      ],
      "text/plain": [
       "                  Cap        Name  meanAnnualReturn  meanAnnualSTD  \\\n",
       "Name                                                                 \n",
       "HDFCBANK    Large_Cap    HDFCBANK          0.209085       0.150248   \n",
       "HINDUNILVR  Large_Cap  HINDUNILVR          0.299378       0.194041   \n",
       "ASIANPAINT  Large_Cap  ASIANPAINT          0.097990       0.209462   \n",
       "HDFC        Large_Cap        HDFC          0.137945       0.214557   \n",
       "ITC         Large_Cap         ITC          0.045928       0.224856   \n",
       "\n",
       "            meanDailyReturn  meanDailySTD    Sharpe  \n",
       "Name                                                 \n",
       "HDFCBANK           0.000830      0.009465  1.391600  \n",
       "HINDUNILVR         0.001188      0.012223  1.542859  \n",
       "ASIANPAINT         0.000389      0.013195  0.467816  \n",
       "HDFC               0.000547      0.013516  0.642930  \n",
       "ITC                0.000182      0.014165  0.204255  "
      ]
     },
     "execution_count": 14,
     "metadata": {},
     "output_type": "execute_result"
    }
   ],
   "source": [
    "portfolio_2 = summary_all.sort_values('meanAnnualSTD',ascending=True).head(5)\n",
    "portfolio_2"
   ]
  }
 ],
 "metadata": {
  "kernelspec": {
   "display_name": "Python 3",
   "language": "python",
   "name": "python3"
  },
  "language_info": {
   "codemirror_mode": {
    "name": "ipython",
    "version": 3
   },
   "file_extension": ".py",
   "mimetype": "text/x-python",
   "name": "python",
   "nbconvert_exporter": "python",
   "pygments_lexer": "ipython3",
   "version": "3.7.3"
  }
 },
 "nbformat": 4,
 "nbformat_minor": 4
}
