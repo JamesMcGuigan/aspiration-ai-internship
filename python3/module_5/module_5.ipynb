{
 "cells": [
  {
   "cell_type": "markdown",
   "metadata": {},
   "source": [
    "# Module 5 - Modern Portfolio Theory\n",
    "\n",
    "In this module, We’ll be looking at investment portfolio optimization with python, the\n",
    "fundamental concept of diversification and the creation of an efficient frontier that can be used by investors to choose\n",
    "specific mixes of assets based on investment goals; that is, the trade off between their desired level of portfolio\n",
    "return vs their desired level of portfolio risk.\n",
    "\n",
    "[Modern Portfolio Theory](https://www.investopedia.com/terms/m/modernportfoliotheory.asp) suggests that it is possible to \n",
    "construct an \"efficient frontier\" of optimal portfolios,\n",
    "offering the maximum possible expected return for a given level of risk. It suggests that it is not enough to look at\n",
    "the expected risk and return of one particular stock. By investing in more than one stock, an investor can reap the\n",
    "benefits of diversification, particularly a reduction in the riskiness of the portfolio. MPT quantifies the benefits of\n",
    "diversification, also known as not putting all of your eggs in one basket."
   ]
  },
  {
   "cell_type": "code",
   "execution_count": 59,
   "metadata": {},
   "outputs": [],
   "source": [
    "import pandas as pd\n",
    "import numpy as np\n",
    "from pandas import Series, DataFrame\n",
    "import seaborn as sns\n",
    "import matplotlib.pyplot as plt\n",
    "import os\n",
    "import re\n",
    "import glob"
   ]
  },
  {
   "cell_type": "markdown",
   "metadata": {},
   "source": [
    "## Problem Statements"
   ]
  },
  {
   "cell_type": "markdown",
   "metadata": {},
   "source": [
    "## 5.1 \n",
    "For your chosen stock, calculate the mean daily return and daily standard deviation of returns, and then just annualise them to get mean expected annual return and volatility of that single stock. ( annual mean = daily mean * 252 , annual stdev = daily stdev * sqrt(252) )"
   ]
  },
  {
   "cell_type": "code",
   "execution_count": 57,
   "metadata": {},
   "outputs": [
    {
     "data": {
      "text/html": [
       "<div>\n",
       "<style scoped>\n",
       "    .dataframe tbody tr th:only-of-type {\n",
       "        vertical-align: middle;\n",
       "    }\n",
       "\n",
       "    .dataframe tbody tr th {\n",
       "        vertical-align: top;\n",
       "    }\n",
       "\n",
       "    .dataframe thead th {\n",
       "        text-align: right;\n",
       "    }\n",
       "</style>\n",
       "<table border=\"1\" class=\"dataframe\">\n",
       "  <thead>\n",
       "    <tr style=\"text-align: right;\">\n",
       "      <th></th>\n",
       "      <th>Name</th>\n",
       "      <th>meanAnnualReturn</th>\n",
       "      <th>meanAnnualSTD</th>\n",
       "      <th>meanDailyReturn</th>\n",
       "      <th>meanDailySTD</th>\n",
       "    </tr>\n",
       "    <tr>\n",
       "      <th>Name</th>\n",
       "      <th></th>\n",
       "      <th></th>\n",
       "      <th></th>\n",
       "      <th></th>\n",
       "      <th></th>\n",
       "    </tr>\n",
       "  </thead>\n",
       "  <tbody>\n",
       "    <tr>\n",
       "      <th>ADANIPORTS</th>\n",
       "      <td>ADANIPORTS</td>\n",
       "      <td>0.060499</td>\n",
       "      <td>0.309751</td>\n",
       "      <td>0.00024</td>\n",
       "      <td>0.019512</td>\n",
       "    </tr>\n",
       "  </tbody>\n",
       "</table>\n",
       "</div>"
      ],
      "text/plain": [
       "                  Name  meanAnnualReturn  meanAnnualSTD  meanDailyReturn  \\\n",
       "Name                                                                       \n",
       "ADANIPORTS  ADANIPORTS          0.060499       0.309751          0.00024   \n",
       "\n",
       "            meanDailySTD  \n",
       "Name                      \n",
       "ADANIPORTS      0.019512  "
      ]
     },
     "execution_count": 57,
     "metadata": {},
     "output_type": "execute_result"
    }
   ],
   "source": [
    "def read_csv( filename ):\n",
    "    if isinstance(filename, pd.DataFrame): return filename  # OPTIMIZATION: allow passthrough of existing dataframe\n",
    "    \n",
    "    dataframe = pd.read_csv( filename, parse_dates=['Date'] )\n",
    "    dataframe.set_index( dataframe.Date, inplace=True )\n",
    "    return dataframe\n",
    "\n",
    "def meanDailyReturn( filename ):\n",
    "    return read_csv( filename ).Close_Price.pct_change().dropna().mean()\n",
    "\n",
    "def meanDailySTD( filename ):\n",
    "    return read_csv( filename ).Close_Price.pct_change().dropna().std()\n",
    "\n",
    "def meanAnnualReturn( filename ):\n",
    "    return meanDailyReturn(filename) * 252\n",
    "\n",
    "def meanAnnualSTD( filename ):\n",
    "    return meanDailySTD(filename) * np.sqrt(252)\n",
    "\n",
    "def calcReturnVolatility( filename ):\n",
    "    input  = read_csv( filename )\n",
    "    output = DataFrame([{\n",
    "        \"Name\":             re.sub(r'^.+/|\\.[^.]+$', '', filename),\n",
    "        \"meanDailyReturn\":  meanDailyReturn( input ),\n",
    "        \"meanDailySTD\":     meanDailySTD( input ),\n",
    "        \"meanAnnualReturn\": meanAnnualReturn( input ),\n",
    "        \"meanAnnualSTD\":    meanAnnualSTD( input )\n",
    "    }])\n",
    "    output.set_index( output.Name, inplace=True, drop=False )\n",
    "    return output\n",
    "\n",
    "stock = '../../data_output/module_1/python3/stocks/Large_Cap/ADANIPORTS.csv'\n",
    "calcReturnVolatility(stock)"
   ]
  },
  {
   "cell_type": "code",
   "execution_count": 83,
   "metadata": {},
   "outputs": [
    {
     "data": {
      "text/html": [
       "<div>\n",
       "<style scoped>\n",
       "    .dataframe tbody tr th:only-of-type {\n",
       "        vertical-align: middle;\n",
       "    }\n",
       "\n",
       "    .dataframe tbody tr th {\n",
       "        vertical-align: top;\n",
       "    }\n",
       "\n",
       "    .dataframe thead th {\n",
       "        text-align: right;\n",
       "    }\n",
       "</style>\n",
       "<table border=\"1\" class=\"dataframe\">\n",
       "  <thead>\n",
       "    <tr style=\"text-align: right;\">\n",
       "      <th></th>\n",
       "      <th>Name</th>\n",
       "      <th>meanAnnualReturn</th>\n",
       "      <th>meanAnnualSTD</th>\n",
       "      <th>meanDailyReturn</th>\n",
       "      <th>meanDailySTD</th>\n",
       "    </tr>\n",
       "    <tr>\n",
       "      <th>Name</th>\n",
       "      <th></th>\n",
       "      <th></th>\n",
       "      <th></th>\n",
       "      <th></th>\n",
       "      <th></th>\n",
       "    </tr>\n",
       "  </thead>\n",
       "  <tbody>\n",
       "    <tr>\n",
       "      <th>TITAN</th>\n",
       "      <td>TITAN</td>\n",
       "      <td>0.491593</td>\n",
       "      <td>0.324836</td>\n",
       "      <td>0.001951</td>\n",
       "      <td>0.020463</td>\n",
       "    </tr>\n",
       "    <tr>\n",
       "      <th>MARUTI</th>\n",
       "      <td>MARUTI</td>\n",
       "      <td>0.003937</td>\n",
       "      <td>0.225459</td>\n",
       "      <td>0.000016</td>\n",
       "      <td>0.014203</td>\n",
       "    </tr>\n",
       "    <tr>\n",
       "      <th>ASIANPAINT</th>\n",
       "      <td>ASIANPAINT</td>\n",
       "      <td>0.097990</td>\n",
       "      <td>0.209462</td>\n",
       "      <td>0.000389</td>\n",
       "      <td>0.013195</td>\n",
       "    </tr>\n",
       "    <tr>\n",
       "      <th>IOC</th>\n",
       "      <td>IOC</td>\n",
       "      <td>-0.413701</td>\n",
       "      <td>0.500046</td>\n",
       "      <td>-0.001642</td>\n",
       "      <td>0.031500</td>\n",
       "    </tr>\n",
       "    <tr>\n",
       "      <th>DRREDDY</th>\n",
       "      <td>DRREDDY</td>\n",
       "      <td>0.068044</td>\n",
       "      <td>0.298319</td>\n",
       "      <td>0.000270</td>\n",
       "      <td>0.018792</td>\n",
       "    </tr>\n",
       "  </tbody>\n",
       "</table>\n",
       "</div>"
      ],
      "text/plain": [
       "                  Name  meanAnnualReturn  meanAnnualSTD  meanDailyReturn  \\\n",
       "Name                                                                       \n",
       "TITAN            TITAN          0.491593       0.324836         0.001951   \n",
       "MARUTI          MARUTI          0.003937       0.225459         0.000016   \n",
       "ASIANPAINT  ASIANPAINT          0.097990       0.209462         0.000389   \n",
       "IOC                IOC         -0.413701       0.500046        -0.001642   \n",
       "DRREDDY        DRREDDY          0.068044       0.298319         0.000270   \n",
       "\n",
       "            meanDailySTD  \n",
       "Name                      \n",
       "TITAN           0.020463  \n",
       "MARUTI          0.014203  \n",
       "ASIANPAINT      0.013195  \n",
       "IOC             0.031500  \n",
       "DRREDDY         0.018792  "
      ]
     },
     "execution_count": 83,
     "metadata": {},
     "output_type": "execute_result"
    }
   ],
   "source": [
    "filenames = glob.glob('../../data_output/module_1/python3/stocks/**/*.csv')\n",
    "stocks    = pd.concat([ calcReturnVolatility(stock) for stock in filenames ])\n",
    "stocks.head()"
   ]
  },
  {
   "cell_type": "markdown",
   "metadata": {},
   "source": [
    "## 5.2 \n",
    "Now, we need to diversify our portfolio. Build your own portfolio by choosing any 5 stocks, preferably of different sectors and different caps. Assume that all 5 have the same weightage, i.e. 20% . Now calculate the annual returns and volatility of the entire portfolio ( Hint : Don't forget to use the covariance )"
   ]
  },
  {
   "cell_type": "markdown",
   "metadata": {},
   "source": [
    "## 5.3 \n",
    "Prepare a scatter plot for differing weights of the individual stocks in the portfolio , the axes being the returns and volatility. Colour the data points based on the Sharpe Ratio ( Returns/Volatility) of that particular portfolio."
   ]
  },
  {
   "cell_type": "markdown",
   "metadata": {},
   "source": [
    "# 5.4 Mark the 2 portfolios where:\n",
    "- Portfolio 1 - The Sharpe ratio is the highest \n",
    "- Portfolio 2 - The volatility is the lowest."
   ]
  },
  {
   "cell_type": "code",
   "execution_count": null,
   "metadata": {},
   "outputs": [],
   "source": []
  }
 ],
 "metadata": {
  "kernelspec": {
   "display_name": "Python 3",
   "language": "python",
   "name": "python3"
  },
  "language_info": {
   "codemirror_mode": {
    "name": "ipython",
    "version": 3
   },
   "file_extension": ".py",
   "mimetype": "text/x-python",
   "name": "python",
   "nbconvert_exporter": "python",
   "pygments_lexer": "ipython3",
   "version": "3.7.3"
  }
 },
 "nbformat": 4,
 "nbformat_minor": 4
}
