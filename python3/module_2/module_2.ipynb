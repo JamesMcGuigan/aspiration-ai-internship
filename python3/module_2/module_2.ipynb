{
 "cells": [
  {
   "cell_type": "markdown",
   "metadata": {},
   "source": [
    "# Module 2"
   ]
  },
  {
   "cell_type": "code",
   "execution_count": 85,
   "metadata": {},
   "outputs": [],
   "source": [
    "import math\n",
    "import os\n",
    "import re\n",
    "\n",
    "import pandas as pd\n",
    "import simplejson\n",
    "import seaborn as sns"
   ]
  },
  {
   "cell_type": "code",
   "execution_count": 86,
   "metadata": {},
   "outputs": [],
   "source": [
    "sns.set(rc={'figure.figsize':(11.7,8.27)})"
   ]
  },
  {
   "cell_type": "markdown",
   "metadata": {},
   "source": [
    "### 2.1 \n",
    "Load the week2.csv file into a dataframe. What is the type of the Date column? Make sure it is of type datetime64. Convert the Date column to the index of the dataframe."
   ]
  },
  {
   "cell_type": "code",
   "execution_count": 87,
   "metadata": {},
   "outputs": [],
   "source": [
    "# 2.1 Load the week2.csv file into a dataframe.\n",
    "week2_filename = '../../data_output/module_1/week2-python.csv'\n",
    "dataframe = pd.read_csv( week2_filename, parse_dates=['Date'] )  # parse_dates=['Date'] cast to Timestamp\n",
    "\n",
    "# Convert the Date column to the index of the dataframe.\n",
    "dataframe.set_index('Date', inplace=True, drop=False)"
   ]
  },
  {
   "cell_type": "code",
   "execution_count": 134,
   "metadata": {},
   "outputs": [
    {
     "data": {
      "text/html": [
       "<div>\n",
       "<style scoped>\n",
       "    .dataframe tbody tr th:only-of-type {\n",
       "        vertical-align: middle;\n",
       "    }\n",
       "\n",
       "    .dataframe tbody tr th {\n",
       "        vertical-align: top;\n",
       "    }\n",
       "\n",
       "    .dataframe thead th {\n",
       "        text-align: right;\n",
       "    }\n",
       "</style>\n",
       "<table border=\"1\" class=\"dataframe\">\n",
       "  <thead>\n",
       "    <tr style=\"text-align: right;\">\n",
       "      <th></th>\n",
       "      <th>Unnamed: 0</th>\n",
       "      <th>Symbol</th>\n",
       "      <th>Series</th>\n",
       "      <th>Date</th>\n",
       "      <th>Prev_Close</th>\n",
       "      <th>Open_Price</th>\n",
       "      <th>High_Price</th>\n",
       "      <th>Low_Price</th>\n",
       "      <th>Last_Price</th>\n",
       "      <th>Close_Price</th>\n",
       "      <th>Average_Price</th>\n",
       "      <th>Total_Traded_Quantity</th>\n",
       "      <th>Turnover</th>\n",
       "      <th>No_of_Trades</th>\n",
       "      <th>Deliverable_Qty</th>\n",
       "      <th>Percent_Dly_Qt_to_Traded_Qty</th>\n",
       "      <th>Date_Year</th>\n",
       "      <th>Date_Month</th>\n",
       "      <th>Day_Perc_Change</th>\n",
       "      <th>Trend</th>\n",
       "    </tr>\n",
       "    <tr>\n",
       "      <th>Date</th>\n",
       "      <th></th>\n",
       "      <th></th>\n",
       "      <th></th>\n",
       "      <th></th>\n",
       "      <th></th>\n",
       "      <th></th>\n",
       "      <th></th>\n",
       "      <th></th>\n",
       "      <th></th>\n",
       "      <th></th>\n",
       "      <th></th>\n",
       "      <th></th>\n",
       "      <th></th>\n",
       "      <th></th>\n",
       "      <th></th>\n",
       "      <th></th>\n",
       "      <th></th>\n",
       "      <th></th>\n",
       "      <th></th>\n",
       "      <th></th>\n",
       "    </tr>\n",
       "  </thead>\n",
       "  <tbody>\n",
       "    <tr>\n",
       "      <th>2017-05-15</th>\n",
       "      <td>0</td>\n",
       "      <td>MUTHOOTFIN</td>\n",
       "      <td>EQ</td>\n",
       "      <td>2017-05-15</td>\n",
       "      <td>390.70</td>\n",
       "      <td>391.00</td>\n",
       "      <td>396.50</td>\n",
       "      <td>388.50</td>\n",
       "      <td>393.00</td>\n",
       "      <td>392.45</td>\n",
       "      <td>393.38</td>\n",
       "      <td>385865</td>\n",
       "      <td>1.517907e+08</td>\n",
       "      <td>6893</td>\n",
       "      <td>63660</td>\n",
       "      <td>16.50</td>\n",
       "      <td>2017</td>\n",
       "      <td>5</td>\n",
       "      <td>0.00</td>\n",
       "      <td>Slight</td>\n",
       "    </tr>\n",
       "    <tr>\n",
       "      <th>2017-05-16</th>\n",
       "      <td>2</td>\n",
       "      <td>MUTHOOTFIN</td>\n",
       "      <td>EQ</td>\n",
       "      <td>2017-05-16</td>\n",
       "      <td>392.45</td>\n",
       "      <td>393.65</td>\n",
       "      <td>400.95</td>\n",
       "      <td>393.25</td>\n",
       "      <td>393.45</td>\n",
       "      <td>394.80</td>\n",
       "      <td>398.01</td>\n",
       "      <td>514200</td>\n",
       "      <td>2.046578e+08</td>\n",
       "      <td>9938</td>\n",
       "      <td>100880</td>\n",
       "      <td>19.62</td>\n",
       "      <td>2017</td>\n",
       "      <td>5</td>\n",
       "      <td>0.01</td>\n",
       "      <td>Slight</td>\n",
       "    </tr>\n",
       "    <tr>\n",
       "      <th>2017-05-17</th>\n",
       "      <td>6</td>\n",
       "      <td>MUTHOOTFIN</td>\n",
       "      <td>EQ</td>\n",
       "      <td>2017-05-17</td>\n",
       "      <td>394.80</td>\n",
       "      <td>396.90</td>\n",
       "      <td>398.00</td>\n",
       "      <td>392.60</td>\n",
       "      <td>394.10</td>\n",
       "      <td>395.15</td>\n",
       "      <td>394.90</td>\n",
       "      <td>311597</td>\n",
       "      <td>1.230481e+08</td>\n",
       "      <td>6512</td>\n",
       "      <td>116484</td>\n",
       "      <td>37.38</td>\n",
       "      <td>2017</td>\n",
       "      <td>5</td>\n",
       "      <td>0.00</td>\n",
       "      <td>Slight</td>\n",
       "    </tr>\n",
       "    <tr>\n",
       "      <th>2017-05-18</th>\n",
       "      <td>8</td>\n",
       "      <td>MUTHOOTFIN</td>\n",
       "      <td>EQ</td>\n",
       "      <td>2017-05-18</td>\n",
       "      <td>395.15</td>\n",
       "      <td>393.00</td>\n",
       "      <td>395.45</td>\n",
       "      <td>375.10</td>\n",
       "      <td>378.85</td>\n",
       "      <td>379.20</td>\n",
       "      <td>386.45</td>\n",
       "      <td>646434</td>\n",
       "      <td>2.498119e+08</td>\n",
       "      <td>11171</td>\n",
       "      <td>238171</td>\n",
       "      <td>36.84</td>\n",
       "      <td>2017</td>\n",
       "      <td>5</td>\n",
       "      <td>-0.04</td>\n",
       "      <td>Slight</td>\n",
       "    </tr>\n",
       "    <tr>\n",
       "      <th>2017-05-19</th>\n",
       "      <td>10</td>\n",
       "      <td>MUTHOOTFIN</td>\n",
       "      <td>EQ</td>\n",
       "      <td>2017-05-19</td>\n",
       "      <td>379.20</td>\n",
       "      <td>395.00</td>\n",
       "      <td>400.90</td>\n",
       "      <td>357.45</td>\n",
       "      <td>381.00</td>\n",
       "      <td>379.15</td>\n",
       "      <td>382.13</td>\n",
       "      <td>3211995</td>\n",
       "      <td>1.227389e+09</td>\n",
       "      <td>42906</td>\n",
       "      <td>1193472</td>\n",
       "      <td>37.16</td>\n",
       "      <td>2017</td>\n",
       "      <td>5</td>\n",
       "      <td>-0.00</td>\n",
       "      <td>Slight</td>\n",
       "    </tr>\n",
       "  </tbody>\n",
       "</table>\n",
       "</div>"
      ],
      "text/plain": [
       "            Unnamed: 0      Symbol Series       Date  Prev_Close  Open_Price  \\\n",
       "Date                                                                           \n",
       "2017-05-15           0  MUTHOOTFIN     EQ 2017-05-15      390.70      391.00   \n",
       "2017-05-16           2  MUTHOOTFIN     EQ 2017-05-16      392.45      393.65   \n",
       "2017-05-17           6  MUTHOOTFIN     EQ 2017-05-17      394.80      396.90   \n",
       "2017-05-18           8  MUTHOOTFIN     EQ 2017-05-18      395.15      393.00   \n",
       "2017-05-19          10  MUTHOOTFIN     EQ 2017-05-19      379.20      395.00   \n",
       "\n",
       "            High_Price  Low_Price  Last_Price  Close_Price  Average_Price  \\\n",
       "Date                                                                        \n",
       "2017-05-15      396.50     388.50      393.00       392.45         393.38   \n",
       "2017-05-16      400.95     393.25      393.45       394.80         398.01   \n",
       "2017-05-17      398.00     392.60      394.10       395.15         394.90   \n",
       "2017-05-18      395.45     375.10      378.85       379.20         386.45   \n",
       "2017-05-19      400.90     357.45      381.00       379.15         382.13   \n",
       "\n",
       "            Total_Traded_Quantity      Turnover  No_of_Trades  \\\n",
       "Date                                                            \n",
       "2017-05-15                 385865  1.517907e+08          6893   \n",
       "2017-05-16                 514200  2.046578e+08          9938   \n",
       "2017-05-17                 311597  1.230481e+08          6512   \n",
       "2017-05-18                 646434  2.498119e+08         11171   \n",
       "2017-05-19                3211995  1.227389e+09         42906   \n",
       "\n",
       "            Deliverable_Qty  Percent_Dly_Qt_to_Traded_Qty  Date_Year  \\\n",
       "Date                                                                   \n",
       "2017-05-15            63660                         16.50       2017   \n",
       "2017-05-16           100880                         19.62       2017   \n",
       "2017-05-17           116484                         37.38       2017   \n",
       "2017-05-18           238171                         36.84       2017   \n",
       "2017-05-19          1193472                         37.16       2017   \n",
       "\n",
       "            Date_Month  Day_Perc_Change   Trend  \n",
       "Date                                             \n",
       "2017-05-15           5             0.00  Slight  \n",
       "2017-05-16           5             0.01  Slight  \n",
       "2017-05-17           5             0.00  Slight  \n",
       "2017-05-18           5            -0.04  Slight  \n",
       "2017-05-19           5            -0.00  Slight  "
      ]
     },
     "execution_count": 134,
     "metadata": {},
     "output_type": "execute_result"
    }
   ],
   "source": [
    "dataframe.head()"
   ]
  },
  {
   "cell_type": "code",
   "execution_count": 131,
   "metadata": {},
   "outputs": [
    {
     "data": {
      "text/plain": [
       "Unnamed: 0             int64\n",
       "Symbol                object\n",
       "Series                object\n",
       "Date          datetime64[ns]\n",
       "dtype: object"
      ]
     },
     "execution_count": 131,
     "metadata": {},
     "output_type": "execute_result"
    }
   ],
   "source": [
    "# What is the type of the Date column? \n",
    "dataframe['Date'].dtypes   # dtype('<M8[ns]')\n",
    "dataframe.dtypes[:'Date']  # Date: datetime64[ns]"
   ]
  },
  {
   "cell_type": "code",
   "execution_count": 132,
   "metadata": {},
   "outputs": [
    {
     "data": {
      "text/plain": [
       "array(['EQ'], dtype=object)"
      ]
     },
     "execution_count": 132,
     "metadata": {},
     "output_type": "execute_result"
    }
   ],
   "source": [
    "dataframe['Series'].unique()  # Only EQ Series Stocks are sleected | Graph get messed up with multiple series types "
   ]
  },
  {
   "cell_type": "markdown",
   "metadata": {},
   "source": [
    "Plot the closing price of each of the days for the entire time frame to get an idea of what the general outlook of the stock is."
   ]
  },
  {
   "cell_type": "code",
   "execution_count": 133,
   "metadata": {},
   "outputs": [
    {
     "data": {
      "text/html": [
       "<div>\n",
       "<style scoped>\n",
       "    .dataframe tbody tr th:only-of-type {\n",
       "        vertical-align: middle;\n",
       "    }\n",
       "\n",
       "    .dataframe tbody tr th {\n",
       "        vertical-align: top;\n",
       "    }\n",
       "\n",
       "    .dataframe thead th {\n",
       "        text-align: right;\n",
       "    }\n",
       "</style>\n",
       "<table border=\"1\" class=\"dataframe\">\n",
       "  <thead>\n",
       "    <tr style=\"text-align: right;\">\n",
       "      <th></th>\n",
       "      <th>Close_Price</th>\n",
       "      <th>Date</th>\n",
       "    </tr>\n",
       "    <tr>\n",
       "      <th>Date</th>\n",
       "      <th></th>\n",
       "      <th></th>\n",
       "    </tr>\n",
       "  </thead>\n",
       "  <tbody>\n",
       "    <tr>\n",
       "      <th>2017-05-15</th>\n",
       "      <td>392.45</td>\n",
       "      <td>2017-05-15</td>\n",
       "    </tr>\n",
       "    <tr>\n",
       "      <th>2017-05-16</th>\n",
       "      <td>394.80</td>\n",
       "      <td>2017-05-16</td>\n",
       "    </tr>\n",
       "    <tr>\n",
       "      <th>2017-05-17</th>\n",
       "      <td>395.15</td>\n",
       "      <td>2017-05-17</td>\n",
       "    </tr>\n",
       "    <tr>\n",
       "      <th>2017-05-18</th>\n",
       "      <td>379.20</td>\n",
       "      <td>2017-05-18</td>\n",
       "    </tr>\n",
       "    <tr>\n",
       "      <th>2017-05-19</th>\n",
       "      <td>379.15</td>\n",
       "      <td>2017-05-19</td>\n",
       "    </tr>\n",
       "  </tbody>\n",
       "</table>\n",
       "</div>"
      ],
      "text/plain": [
       "            Close_Price       Date\n",
       "Date                              \n",
       "2017-05-15       392.45 2017-05-15\n",
       "2017-05-16       394.80 2017-05-16\n",
       "2017-05-17       395.15 2017-05-17\n",
       "2017-05-18       379.20 2017-05-18\n",
       "2017-05-19       379.15 2017-05-19"
      ]
     },
     "execution_count": 133,
     "metadata": {},
     "output_type": "execute_result"
    }
   ],
   "source": [
    "df_close_price_per_day = dataframe['Close_Price'].groupby('Date').last().to_frame()\n",
    "df_close_price_per_day['Date'] = df_close_price_per_day.index\n",
    "df_close_price_per_day.head()"
   ]
  },
  {
   "cell_type": "code",
   "execution_count": 109,
   "metadata": {},
   "outputs": [
    {
     "data": {
      "text/plain": [
       "<matplotlib.axes._subplots.AxesSubplot at 0x123736198>"
      ]
     },
     "execution_count": 109,
     "metadata": {},
     "output_type": "execute_result"
    },
    {
     "data": {
      "image/png": "[encoded data removed]",
      "text/plain": [
       "<Figure size 842.4x595.44 with 1 Axes>"
      ]
     },
     "metadata": {},
     "output_type": "display_data"
    }
   ],
   "source": [
    "sns.lineplot(x=\"Date\", y=\"Close_Price\", data=df_close_price_per_day )"
   ]
  },
  {
   "cell_type": "markdown",
   "metadata": {},
   "source": [
    "Look out for drastic changes in this stock, you have the exact date when these took place, try to fetch the news for this day of this stock\n",
    "This would be helpful if we are to train our model to take NLP inputs."
   ]
  },
  {
   "cell_type": "code",
   "execution_count": 126,
   "metadata": {},
   "outputs": [
    {
     "data": {
      "text/plain": [
       "Date\n",
       "2018-02-02   -0.08\n",
       "2018-12-06   -0.06\n",
       "2018-10-19   -0.06\n",
       "2018-09-24   -0.06\n",
       "2017-08-09   -0.05\n",
       "Name: Day_Perc_Change, dtype: float64"
      ]
     },
     "execution_count": 126,
     "metadata": {},
     "output_type": "execute_result"
    }
   ],
   "source": [
    "dataframe['Day_Perc_Change'].sort_values().head()"
   ]
  },
  {
   "cell_type": "markdown",
   "metadata": {},
   "source": [
    "- 2018-12-06 - [Muthoot Finance Q2 profit rises 9% to Rs 484 cr, AUM grows 21](https://www.moneycontrol.com/news/business/earnings/muthoot-finance-q2-profit-rises-9-to-rs-484-cr-aum-grows-21-3260721.html)\n",
    "- 2018-09-24 - [Asset-liability mismatch at comfortable level, says Muthoot Finance](https://www.cnbctv18.com/videos/finance/asset-liability-mismatch-at-comfortable-level-says-muthoot-finance-900111.htm)\n",
    "- 2017-08-09 - [Kerala Goods and Services Tax Bill introduced in Assembly](https://timesofindia.indiatimes.com/business/india-business/kerala-goods-and-services-tax-bill-introduced-in-assembly/articleshow/59988338.cms)"
   ]
  },
  {
   "cell_type": "code",
   "execution_count": 137,
   "metadata": {},
   "outputs": [
    {
     "data": {
      "text/plain": [
       "Date\n",
       "2017-11-16    0.07\n",
       "2017-09-06    0.08\n",
       "2018-10-10    0.09\n",
       "2018-09-05    0.09\n",
       "2018-12-07    0.12\n",
       "Name: Day_Perc_Change, dtype: float64"
      ]
     },
     "execution_count": 137,
     "metadata": {},
     "output_type": "execute_result"
    }
   ],
   "source": [
    "dataframe['Day_Perc_Change'].sort_values().tail()"
   ]
  },
  {
   "cell_type": "markdown",
   "metadata": {},
   "source": [
    "- 2018-12-07 - [Muthoot Finance will consider more fund raising via NCDs: George Alexander Muthoot](https://economictimes.indiatimes.com/markets/expert-view/muthoot-finance-will-now-look-at-more-fund-raising-through-ncd-route-george-alexander-muthoot/articleshow/66986536.cms)\n",
    "- 2018-09-05 - [Muthoot Finance Q1 net profit rises 43% at ₹492 crore](https://www.thehindubusinessline.com/money-and-banking/muthoot-finance-q1-net-profit-rises-43-at-492-crore/article24874199.ece)\n",
    "\n"
   ]
  },
  {
   "cell_type": "code",
   "execution_count": null,
   "metadata": {},
   "outputs": [],
   "source": []
  }
 ],
 "metadata": {
  "kernelspec": {
   "display_name": "Python 3",
   "language": "python",
   "name": "python3"
  },
  "language_info": {
   "codemirror_mode": {
    "name": "ipython",
    "version": 3
   },
   "file_extension": ".py",
   "mimetype": "text/x-python",
   "name": "python",
   "nbconvert_exporter": "python",
   "pygments_lexer": "ipython3",
   "version": "3.7.3"
  }
 },
 "nbformat": 4,
 "nbformat_minor": 4
}
